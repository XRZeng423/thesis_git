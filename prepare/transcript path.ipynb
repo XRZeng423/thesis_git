{
 "cells": [
  {
   "cell_type": "code",
   "execution_count": 1,
   "metadata": {},
   "outputs": [],
   "source": [
    "import numpy as np\n",
    "import pandas as pd\n",
    "import csv\n",
    "import pandasql as ps\n",
    "import sqlite3\n",
    "import os\n",
    "import datetime as dt\n",
    "\n",
    "import datetime\n",
    "from datetime import datetime\n",
    "\n",
    "import warnings\n",
    "warnings.filterwarnings('ignore')"
   ]
  },
  {
   "cell_type": "code",
   "execution_count": 2,
   "metadata": {},
   "outputs": [],
   "source": [
    "transcript = pd.read_csv('/project/graziul/transcripts/transcripts2021_09_03.csv')\n",
    "#report.drop(report.iloc[:, 0:1], inplace = True, axis = 1)"
   ]
  },
  {
   "cell_type": "code",
   "execution_count": 3,
   "metadata": {},
   "outputs": [
    {
     "data": {
      "text/html": [
       "<div>\n",
       "<style scoped>\n",
       "    .dataframe tbody tr th:only-of-type {\n",
       "        vertical-align: middle;\n",
       "    }\n",
       "\n",
       "    .dataframe tbody tr th {\n",
       "        vertical-align: top;\n",
       "    }\n",
       "\n",
       "    .dataframe thead th {\n",
       "        text-align: right;\n",
       "    }\n",
       "</style>\n",
       "<table border=\"1\" class=\"dataframe\">\n",
       "  <thead>\n",
       "    <tr style=\"text-align: right;\">\n",
       "      <th></th>\n",
       "      <th>feed</th>\n",
       "      <th>zone</th>\n",
       "      <th>year</th>\n",
       "      <th>month</th>\n",
       "      <th>day</th>\n",
       "      <th>time</th>\n",
       "      <th>sid</th>\n",
       "      <th>start</th>\n",
       "      <th>end</th>\n",
       "      <th>transcription</th>\n",
       "      <th>notes</th>\n",
       "      <th>file</th>\n",
       "      <th>transcriber</th>\n",
       "      <th>start_c</th>\n",
       "      <th>start_dt</th>\n",
       "      <th>end_c</th>\n",
       "      <th>end_dt</th>\n",
       "      <th>length</th>\n",
       "      <th>length_s</th>\n",
       "    </tr>\n",
       "  </thead>\n",
       "  <tbody>\n",
       "    <tr>\n",
       "      <th>46909</th>\n",
       "      <td>27158</td>\n",
       "      <td>Zone8</td>\n",
       "      <td>2018</td>\n",
       "      <td>8</td>\n",
       "      <td>10</td>\n",
       "      <td>105</td>\n",
       "      <td>SID-23</td>\n",
       "      <td>00.30.22.944</td>\n",
       "      <td>00.30.27.522</td>\n",
       "      <td>DO YOU HAVE ONE FOR [THIRTY-TWO] &lt;X&gt; [FORD] C...</td>\n",
       "      <td>NaN</td>\n",
       "      <td>201808100105-556221-27158ahs.txt</td>\n",
       "      <td>aliasmith</td>\n",
       "      <td>00.30.22.944</td>\n",
       "      <td>1900-01-01 00:30:22.944</td>\n",
       "      <td>00.30.27.522</td>\n",
       "      <td>1900-01-01 00:30:27.522</td>\n",
       "      <td>0 days 00:00:04.578000</td>\n",
       "      <td>4.578</td>\n",
       "    </tr>\n",
       "    <tr>\n",
       "      <th>46910</th>\n",
       "      <td>27158</td>\n",
       "      <td>Zone8</td>\n",
       "      <td>2018</td>\n",
       "      <td>8</td>\n",
       "      <td>10</td>\n",
       "      <td>105</td>\n",
       "      <td>SID-23</td>\n",
       "      <td>00.30.27.747</td>\n",
       "      <td>00.30.31.604</td>\n",
       "      <td>[THAT'LL] BE GOOD &lt;X&gt;</td>\n",
       "      <td>NaN</td>\n",
       "      <td>201808100105-556221-27158ahs.txt</td>\n",
       "      <td>aliasmith</td>\n",
       "      <td>00.30.27.747</td>\n",
       "      <td>1900-01-01 00:30:27.747</td>\n",
       "      <td>00.30.31.604</td>\n",
       "      <td>1900-01-01 00:30:31.604</td>\n",
       "      <td>0 days 00:00:03.857000</td>\n",
       "      <td>3.857</td>\n",
       "    </tr>\n",
       "  </tbody>\n",
       "</table>\n",
       "</div>"
      ],
      "text/plain": [
       "        feed   zone  year  month  day  time     sid         start  \\\n",
       "46909  27158  Zone8  2018      8   10   105  SID-23  00.30.22.944   \n",
       "46910  27158  Zone8  2018      8   10   105  SID-23  00.30.27.747   \n",
       "\n",
       "                end                                      transcription notes  \\\n",
       "46909  00.30.27.522   DO YOU HAVE ONE FOR [THIRTY-TWO] <X> [FORD] C...   NaN   \n",
       "46910  00.30.31.604                              [THAT'LL] BE GOOD <X>   NaN   \n",
       "\n",
       "                                   file transcriber       start_c  \\\n",
       "46909  201808100105-556221-27158ahs.txt   aliasmith  00.30.22.944   \n",
       "46910  201808100105-556221-27158ahs.txt   aliasmith  00.30.27.747   \n",
       "\n",
       "                      start_dt         end_c                   end_dt  \\\n",
       "46909  1900-01-01 00:30:22.944  00.30.27.522  1900-01-01 00:30:27.522   \n",
       "46910  1900-01-01 00:30:27.747  00.30.31.604  1900-01-01 00:30:31.604   \n",
       "\n",
       "                       length  length_s  \n",
       "46909  0 days 00:00:04.578000     4.578  \n",
       "46910  0 days 00:00:03.857000     3.857  "
      ]
     },
     "execution_count": 3,
     "metadata": {},
     "output_type": "execute_result"
    }
   ],
   "source": [
    "transcript.tail(2)"
   ]
  },
  {
   "cell_type": "code",
   "execution_count": 52,
   "metadata": {},
   "outputs": [],
   "source": [
    "def mp3path (i, transcript):\n",
    "    zonename = transcript.loc[i,'zone']\n",
    "    wavefile = transcript.loc[i,'file']\n",
    "    dayname = dt.datetime.strptime(wavefile[0:8], '%Y%m%d').date().strftime(\"%Y_%m_%d\")\n",
    "    \n",
    "    feedname = transcript.loc[i,'feed'].astype(str)\n",
    "    reg = wavefile.find(feedname)\n",
    "    mp3name = wavefile[0:(reg+5)]+'.mp3'\n",
    "\n",
    "    mp3path = \"/project/graziul/data\" + '/' + zonename + '/' + dayname + '/' + mp3name\n",
    "    return mp3path"
   ]
  },
  {
   "cell_type": "code",
   "execution_count": 58,
   "metadata": {
    "scrolled": true
   },
   "outputs": [],
   "source": [
    "for i in range(0,len(transcript)):\n",
    "    transcript.loc[i,'mp3path'] = mp3path(i,transcript)"
   ]
  },
  {
   "cell_type": "code",
   "execution_count": 60,
   "metadata": {},
   "outputs": [],
   "source": [
    "path = transcript.loc [:,['mp3path','start','end','transcription','length_s']]"
   ]
  },
  {
   "cell_type": "code",
   "execution_count": 6,
   "metadata": {},
   "outputs": [],
   "source": [
    "#pd.unique(path['mp3path'])"
   ]
  },
  {
   "cell_type": "code",
   "execution_count": 4,
   "metadata": {},
   "outputs": [],
   "source": [
    "transcript = pd.read_csv('/project/graziul/ra/team_ser/BPC_path.csv')\n",
    "transcript.drop(transcript.iloc[:, 0:1], inplace = True, axis = 1)"
   ]
  },
  {
   "cell_type": "code",
   "execution_count": 5,
   "metadata": {},
   "outputs": [
    {
     "data": {
      "text/html": [
       "<div>\n",
       "<style scoped>\n",
       "    .dataframe tbody tr th:only-of-type {\n",
       "        vertical-align: middle;\n",
       "    }\n",
       "\n",
       "    .dataframe tbody tr th {\n",
       "        vertical-align: top;\n",
       "    }\n",
       "\n",
       "    .dataframe thead th {\n",
       "        text-align: right;\n",
       "    }\n",
       "</style>\n",
       "<table border=\"1\" class=\"dataframe\">\n",
       "  <thead>\n",
       "    <tr style=\"text-align: right;\">\n",
       "      <th></th>\n",
       "      <th>mp3path</th>\n",
       "      <th>start</th>\n",
       "      <th>end</th>\n",
       "      <th>transcription</th>\n",
       "      <th>length_s</th>\n",
       "    </tr>\n",
       "  </thead>\n",
       "  <tbody>\n",
       "    <tr>\n",
       "      <th>0</th>\n",
       "      <td>/project/graziul/data/Zone1/2018_08_12/2018081...</td>\n",
       "      <td>00.02.21.252</td>\n",
       "      <td>00.02.31.279</td>\n",
       "      <td>RADIOSHOP TESTING ONE TWO THREE FOUR FIVE FIVE...</td>\n",
       "      <td>10.027</td>\n",
       "    </tr>\n",
       "    <tr>\n",
       "      <th>1</th>\n",
       "      <td>/project/graziul/data/Zone1/2018_08_12/2018081...</td>\n",
       "      <td>00.02.38.109</td>\n",
       "      <td>00.02.39.417</td>\n",
       "      <td>ONE TWO ONE TWO</td>\n",
       "      <td>1.308</td>\n",
       "    </tr>\n",
       "    <tr>\n",
       "      <th>2</th>\n",
       "      <td>/project/graziul/data/Zone1/2018_08_12/2018081...</td>\n",
       "      <td>00.02.48.327</td>\n",
       "      <td>00.02.49.235</td>\n",
       "      <td>UNIT COMING IN</td>\n",
       "      <td>0.908</td>\n",
       "    </tr>\n",
       "    <tr>\n",
       "      <th>3</th>\n",
       "      <td>/project/graziul/data/Zone1/2018_08_12/2018081...</td>\n",
       "      <td>00.02.55.330</td>\n",
       "      <td>00.02.57.437</td>\n",
       "      <td>ZONE ONE IS ON CITY [WIDE] FIVE</td>\n",
       "      <td>2.107</td>\n",
       "    </tr>\n",
       "    <tr>\n",
       "      <th>4</th>\n",
       "      <td>/project/graziul/data/Zone1/2018_08_12/2018081...</td>\n",
       "      <td>00.03.04.003</td>\n",
       "      <td>00.03.09.017</td>\n",
       "      <td>OKAY THANKS UH THIS IS THE RADIO SHOP TESTING ...</td>\n",
       "      <td>5.014</td>\n",
       "    </tr>\n",
       "  </tbody>\n",
       "</table>\n",
       "</div>"
      ],
      "text/plain": [
       "                                             mp3path         start  \\\n",
       "0  /project/graziul/data/Zone1/2018_08_12/2018081...  00.02.21.252   \n",
       "1  /project/graziul/data/Zone1/2018_08_12/2018081...  00.02.38.109   \n",
       "2  /project/graziul/data/Zone1/2018_08_12/2018081...  00.02.48.327   \n",
       "3  /project/graziul/data/Zone1/2018_08_12/2018081...  00.02.55.330   \n",
       "4  /project/graziul/data/Zone1/2018_08_12/2018081...  00.03.04.003   \n",
       "\n",
       "            end                                      transcription  length_s  \n",
       "0  00.02.31.279  RADIOSHOP TESTING ONE TWO THREE FOUR FIVE FIVE...    10.027  \n",
       "1  00.02.39.417                                    ONE TWO ONE TWO     1.308  \n",
       "2  00.02.49.235                                     UNIT COMING IN     0.908  \n",
       "3  00.02.57.437                    ZONE ONE IS ON CITY [WIDE] FIVE     2.107  \n",
       "4  00.03.09.017  OKAY THANKS UH THIS IS THE RADIO SHOP TESTING ...     5.014  "
      ]
     },
     "execution_count": 5,
     "metadata": {},
     "output_type": "execute_result"
    }
   ],
   "source": [
    "transcript.head()"
   ]
  },
  {
   "cell_type": "code",
   "execution_count": 103,
   "metadata": {},
   "outputs": [],
   "source": [
    "transcript.loc[:,'start_t'] =  transcript.loc[:,'start'].str.replace(':', '.') .str.split(\".\")\n",
    "transcript.loc[:,'end_t'] =  transcript.loc[:,'end'].str.replace(':', '.') .str.split(\".\")"
   ]
  },
  {
   "cell_type": "code",
   "execution_count": 105,
   "metadata": {},
   "outputs": [],
   "source": [
    "transcript.loc[:,'start_l'] = transcript.loc[:,'start_t'].str.len()\n",
    "transcript.loc[:,'end_l'] = transcript.loc[:,'end_t'].str.len()"
   ]
  },
  {
   "cell_type": "code",
   "execution_count": 112,
   "metadata": {},
   "outputs": [],
   "source": [
    "transcript = transcript.loc[(transcript.loc[:,'start_l'] == 4) & (transcript.loc[:,'end_l'] == 4) ]"
   ]
  },
  {
   "cell_type": "code",
   "execution_count": 128,
   "metadata": {},
   "outputs": [],
   "source": [
    "transcript['start']=transcript[\"start_t\"].str.join(\".\")\n",
    "transcript['end']=transcript[\"end_t\"].str.join(\".\")"
   ]
  },
  {
   "cell_type": "code",
   "execution_count": 131,
   "metadata": {},
   "outputs": [],
   "source": [
    "transcript = transcript[['mp3path','start','end','transcription','length_s']] "
   ]
  },
  {
   "cell_type": "code",
   "execution_count": 134,
   "metadata": {},
   "outputs": [],
   "source": [
    "transcript.to_csv('/project/graziul/ra/team_ser/BPC_path1.csv')"
   ]
  },
  {
   "cell_type": "code",
   "execution_count": 10,
   "metadata": {},
   "outputs": [],
   "source": [
    "transcript = pd.read_csv('/project/graziul/ra/team_ser/BPC_path1.csv')[['mp3path']]\n",
    "#transcript.drop(transcript.iloc[:, 0:1], inplace = True, axis = 1)"
   ]
  },
  {
   "cell_type": "code",
   "execution_count": 13,
   "metadata": {},
   "outputs": [],
   "source": [
    "transcript1 = transcript.drop_duplicates()"
   ]
  },
  {
   "cell_type": "code",
   "execution_count": 16,
   "metadata": {},
   "outputs": [
    {
     "data": {
      "text/html": [
       "<div>\n",
       "<style scoped>\n",
       "    .dataframe tbody tr th:only-of-type {\n",
       "        vertical-align: middle;\n",
       "    }\n",
       "\n",
       "    .dataframe tbody tr th {\n",
       "        vertical-align: top;\n",
       "    }\n",
       "\n",
       "    .dataframe thead th {\n",
       "        text-align: right;\n",
       "    }\n",
       "</style>\n",
       "<table border=\"1\" class=\"dataframe\">\n",
       "  <thead>\n",
       "    <tr style=\"text-align: right;\">\n",
       "      <th></th>\n",
       "      <th>mp3path</th>\n",
       "    </tr>\n",
       "  </thead>\n",
       "  <tbody>\n",
       "    <tr>\n",
       "      <th>0</th>\n",
       "      <td>/project/graziul/data/Zone1/2018_08_12/2018081...</td>\n",
       "    </tr>\n",
       "    <tr>\n",
       "      <th>17</th>\n",
       "      <td>/project/graziul/data/Zone1/2018_08_12/2018081...</td>\n",
       "    </tr>\n",
       "    <tr>\n",
       "      <th>99</th>\n",
       "      <td>/project/graziul/data/Zone1/2018_08_12/2018081...</td>\n",
       "    </tr>\n",
       "    <tr>\n",
       "      <th>103</th>\n",
       "      <td>/project/graziul/data/Zone1/2018_08_12/2018081...</td>\n",
       "    </tr>\n",
       "    <tr>\n",
       "      <th>179</th>\n",
       "      <td>/project/graziul/data/Zone1/2018_08_12/2018081...</td>\n",
       "    </tr>\n",
       "    <tr>\n",
       "      <th>...</th>\n",
       "      <td>...</td>\n",
       "    </tr>\n",
       "    <tr>\n",
       "      <th>42840</th>\n",
       "      <td>/project/graziul/data/Zone8/2018_08_10/2018081...</td>\n",
       "    </tr>\n",
       "    <tr>\n",
       "      <th>43019</th>\n",
       "      <td>/project/graziul/data/Zone8/2018_08_10/2018081...</td>\n",
       "    </tr>\n",
       "    <tr>\n",
       "      <th>43312</th>\n",
       "      <td>/project/graziul/data/Zone8/2018_08_09/2018080...</td>\n",
       "    </tr>\n",
       "    <tr>\n",
       "      <th>43583</th>\n",
       "      <td>/project/graziul/data/Zone8/2018_08_10/2018081...</td>\n",
       "    </tr>\n",
       "    <tr>\n",
       "      <th>43807</th>\n",
       "      <td>/project/graziul/data/Zone8/2018_08_10/2018081...</td>\n",
       "    </tr>\n",
       "  </tbody>\n",
       "</table>\n",
       "<p>216 rows × 1 columns</p>\n",
       "</div>"
      ],
      "text/plain": [
       "                                                 mp3path\n",
       "0      /project/graziul/data/Zone1/2018_08_12/2018081...\n",
       "17     /project/graziul/data/Zone1/2018_08_12/2018081...\n",
       "99     /project/graziul/data/Zone1/2018_08_12/2018081...\n",
       "103    /project/graziul/data/Zone1/2018_08_12/2018081...\n",
       "179    /project/graziul/data/Zone1/2018_08_12/2018081...\n",
       "...                                                  ...\n",
       "42840  /project/graziul/data/Zone8/2018_08_10/2018081...\n",
       "43019  /project/graziul/data/Zone8/2018_08_10/2018081...\n",
       "43312  /project/graziul/data/Zone8/2018_08_09/2018080...\n",
       "43583  /project/graziul/data/Zone8/2018_08_10/2018081...\n",
       "43807  /project/graziul/data/Zone8/2018_08_10/2018081...\n",
       "\n",
       "[216 rows x 1 columns]"
      ]
     },
     "execution_count": 16,
     "metadata": {},
     "output_type": "execute_result"
    }
   ],
   "source": [
    "#transcript1"
   ]
  },
  {
   "cell_type": "code",
   "execution_count": 15,
   "metadata": {},
   "outputs": [],
   "source": [
    "transcript1.to_csv('/project/graziul/ra/team_ser/BPC_path2.csv')"
   ]
  }
 ],
 "metadata": {
  "kernelspec": {
   "display_name": "Python 3 (ipykernel)",
   "language": "python",
   "name": "python3"
  },
  "language_info": {
   "codemirror_mode": {
    "name": "ipython",
    "version": 3
   },
   "file_extension": ".py",
   "mimetype": "text/x-python",
   "name": "python",
   "nbconvert_exporter": "python",
   "pygments_lexer": "ipython3",
   "version": "3.8.5"
  }
 },
 "nbformat": 4,
 "nbformat_minor": 4
}
