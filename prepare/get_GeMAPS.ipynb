{
 "cells": [
  {
   "cell_type": "code",
   "execution_count": 2,
   "metadata": {},
   "outputs": [
    {
     "name": "stderr",
     "output_type": "stream",
     "text": [
      "SoX could not be found!\n",
      "\n",
      "    If you do not have SoX, proceed here:\n",
      "     - - - http://sox.sourceforge.net/ - - -\n",
      "\n",
      "    If you do (or think that you should) have SoX, double-check your\n",
      "    path variables.\n",
      "    \n"
     ]
    }
   ],
   "source": [
    "import numpy as np\n",
    "import pandas as pd\n",
    "import opensmile\n",
    "\n",
    "\n",
    "import pydub\n",
    "import librosa\n",
    "from scipy import signal\n",
    "from mutagen.mp3 import MP3\n",
    "import numpy as np\n",
    "from numpy import sign, trapz\n",
    "from teager_py import Teager\n",
    "import statsmodels.api as sm\n",
    "import wave\n",
    "\n",
    "import warnings\n",
    "warnings.filterwarnings('ignore')"
   ]
  },
  {
   "cell_type": "code",
   "execution_count": 61,
   "metadata": {},
   "outputs": [
    {
     "name": "stdout",
     "output_type": "stream",
     "text": [
      "(None, '/home/xuranzeng/.local/lib/python3.8/site-packages/opensmile', ('', '', 5))\n"
     ]
    }
   ],
   "source": [
    "import imp\n",
    "\n",
    "print(imp.find_module('opensmile'))\n"
   ]
  },
  {
   "cell_type": "code",
   "execution_count": 3,
   "metadata": {},
   "outputs": [],
   "source": [
    "# convert librosa to AudioSegment\n",
    "def librosa_to_audiosegment(filename):\n",
    "    y, sr = librosa.load(filename)\n",
    "    # convert from float to uint16\n",
    "    y = np.array(y * (1<<15), dtype=np.int16)\n",
    "    audio_segment = pydub.AudioSegment(\n",
    "        y.tobytes(), \n",
    "        frame_rate=sr,\n",
    "        sample_width=y.dtype.itemsize, \n",
    "        channels=1\n",
    "    )\n",
    "    return audio_segment"
   ]
  },
  {
   "cell_type": "code",
   "execution_count": 32,
   "metadata": {},
   "outputs": [],
   "source": []
  },
  {
   "cell_type": "code",
   "execution_count": 1,
   "metadata": {},
   "outputs": [],
   "source": [
    "config_str = '''\n",
    ";;;;;;; component list ;;;;;;;;;;;;;;;;;;;;;;;;;;;;;;;;;;;;;;\n",
    "\n",
    "[componentInstances:cComponentManager]\n",
    "instance[dataMemory].type=cDataMemory\n",
    "printLevelStats=0\n",
    "\n",
    "[framer:cFramer]\n",
    "reader.dmLevel = wave\n",
    "writer.dmLevel = frames\n",
    "copyInputName = 1\n",
    "frameMode = fixed\n",
    "frameSize = 0.025000\n",
    "frameStep = 0.010000\n",
    "frameCenterSpecial = left\n",
    "noPostEOIprocessing = 1\n",
    ";;;;;;;;;;;;;;;;;;;;;;;;;;;; main section ;;;;;;;;;;;;;;;;;;;;;;;;;;;\n",
    "\n",
    "\\{\\cm[source{?}:include external source]}\n",
    "\\{GeMAPSv01b_core.lld.conf.inc}\n",
    "\\{GeMAPSv01b_core.func.conf.inc}\n",
    "\n",
    ";;;;;;;; prepare for standard data output ;;;;;;;;;;;;;;;;;;;;;\n",
    "\n",
    "[componentInstances:cComponentManager]\n",
    "instance[lldconcat].type=cVectorConcat\n",
    "instance[funcconcat].type=cVectorConcat\n",
    "\n",
    "[lldconcat:cVectorConcat]\n",
    "reader.dmLevel = gemapsv01b_lldsetE_smo;gemapsv01b_lldsetF_smo\n",
    "writer.dmLevel = lld\n",
    "includeSingleElementFields = 1\n",
    "\n",
    "[funcconcat:cVectorConcat]\n",
    "reader.dmLevel = gemapsv01b_functionalsF0;gemapsv01b_functionalsLoudness;gemapsv01b_functionalsMeanStddevVoiced;gemapsv01b_functionalsMeanSpectralUnvoiced;gemapsv01b_temporalSet\n",
    "writer.dmLevel = func\n",
    "includeSingleElementFields = 1\n",
    "\n",
    "\\{\\cm[sink{?}:include external sink]}\n",
    "\n",
    "'''"
   ]
  },
  {
   "cell_type": "code",
   "execution_count": 9,
   "metadata": {
    "scrolled": true
   },
   "outputs": [
    {
     "ename": "OpenSmileException",
     "evalue": "Code: 6",
     "output_type": "error",
     "traceback": [
      "\u001b[0;31m---------------------------------------------------------------------------\u001b[0m",
      "\u001b[0;31mOpenSmileException\u001b[0m                        Traceback (most recent call last)",
      "\u001b[0;32m<ipython-input-9-750659535706>\u001b[0m in \u001b[0;36m<module>\u001b[0;34m\u001b[0m\n\u001b[1;32m      2\u001b[0m     \u001b[0mfp\u001b[0m\u001b[0;34m.\u001b[0m\u001b[0mwrite\u001b[0m\u001b[0;34m(\u001b[0m\u001b[0mconfig_str\u001b[0m\u001b[0;34m)\u001b[0m\u001b[0;34m\u001b[0m\u001b[0;34m\u001b[0m\u001b[0m\n\u001b[1;32m      3\u001b[0m \u001b[0;34m\u001b[0m\u001b[0m\n\u001b[0;32m----> 4\u001b[0;31m smile = opensmile.Smile(\n\u001b[0m\u001b[1;32m      5\u001b[0m     \u001b[0mfeature_set\u001b[0m\u001b[0;34m=\u001b[0m\u001b[0;34m'my.conf'\u001b[0m\u001b[0;34m,\u001b[0m\u001b[0;34m\u001b[0m\u001b[0;34m\u001b[0m\u001b[0m\n\u001b[1;32m      6\u001b[0m     \u001b[0mfeature_level\u001b[0m\u001b[0;34m=\u001b[0m\u001b[0;34m'func'\u001b[0m\u001b[0;34m,\u001b[0m\u001b[0;34m\u001b[0m\u001b[0;34m\u001b[0m\u001b[0m\n",
      "\u001b[0;32m~/.local/lib/python3.8/site-packages/audobject/core/decorator.py\u001b[0m in \u001b[0;36mwrapper\u001b[0;34m(self, *args, **kwargs)\u001b[0m\n\u001b[1;32m    107\u001b[0m                 \u001b[0mkwargs\u001b[0m\u001b[0;34m.\u001b[0m\u001b[0mpop\u001b[0m\u001b[0;34m(\u001b[0m\u001b[0mdefine\u001b[0m\u001b[0;34m.\u001b[0m\u001b[0mROOT_ATTRIBUTE\u001b[0m\u001b[0;34m)\u001b[0m\u001b[0;34m\u001b[0m\u001b[0;34m\u001b[0m\u001b[0m\n\u001b[1;32m    108\u001b[0m \u001b[0;34m\u001b[0m\u001b[0m\n\u001b[0;32m--> 109\u001b[0;31m             \u001b[0mfunc\u001b[0m\u001b[0;34m(\u001b[0m\u001b[0mself\u001b[0m\u001b[0;34m,\u001b[0m \u001b[0;34m*\u001b[0m\u001b[0margs\u001b[0m\u001b[0;34m,\u001b[0m \u001b[0;34m**\u001b[0m\u001b[0mkwargs\u001b[0m\u001b[0;34m)\u001b[0m\u001b[0;34m\u001b[0m\u001b[0;34m\u001b[0m\u001b[0m\n\u001b[0m\u001b[1;32m    110\u001b[0m \u001b[0;34m\u001b[0m\u001b[0m\n\u001b[1;32m    111\u001b[0m         \u001b[0;32mreturn\u001b[0m \u001b[0mwrapper\u001b[0m\u001b[0;34m\u001b[0m\u001b[0;34m\u001b[0m\u001b[0m\n",
      "\u001b[0;32m~/.local/lib/python3.8/site-packages/audeer/core/utils.py\u001b[0m in \u001b[0;36mnew_func\u001b[0;34m(*args, **kwargs)\u001b[0m\n\u001b[1;32m    172\u001b[0m                     \u001b[0mstacklevel\u001b[0m\u001b[0;34m=\u001b[0m\u001b[0;36m2\u001b[0m\u001b[0;34m,\u001b[0m\u001b[0;34m\u001b[0m\u001b[0;34m\u001b[0m\u001b[0m\n\u001b[1;32m    173\u001b[0m                 )\n\u001b[0;32m--> 174\u001b[0;31m             \u001b[0;32mreturn\u001b[0m \u001b[0mfunc\u001b[0m\u001b[0;34m(\u001b[0m\u001b[0;34m*\u001b[0m\u001b[0margs\u001b[0m\u001b[0;34m,\u001b[0m \u001b[0;34m**\u001b[0m\u001b[0mkwargs\u001b[0m\u001b[0;34m)\u001b[0m\u001b[0;34m\u001b[0m\u001b[0;34m\u001b[0m\u001b[0m\n\u001b[0m\u001b[1;32m    175\u001b[0m         \u001b[0;32mreturn\u001b[0m \u001b[0mnew_func\u001b[0m\u001b[0;34m\u001b[0m\u001b[0;34m\u001b[0m\u001b[0m\n\u001b[1;32m    176\u001b[0m     \u001b[0;32mreturn\u001b[0m \u001b[0m_deprecated\u001b[0m\u001b[0;34m\u001b[0m\u001b[0;34m\u001b[0m\u001b[0m\n",
      "\u001b[0;32m~/.local/lib/python3.8/site-packages/opensmile/core/smile.py\u001b[0m in \u001b[0;36m__init__\u001b[0;34m(self, feature_set, feature_level, options, loglevel, logfile, sampling_rate, channels, mixdown, resample, segment, keep_nat, num_workers, verbose)\u001b[0m\n\u001b[1;32m    171\u001b[0m \u001b[0;34m\u001b[0m\u001b[0m\n\u001b[1;32m    172\u001b[0m         super().__init__(\n\u001b[0;32m--> 173\u001b[0;31m             \u001b[0mself\u001b[0m\u001b[0;34m.\u001b[0m\u001b[0m_feature_names\u001b[0m\u001b[0;34m(\u001b[0m\u001b[0;34m)\u001b[0m\u001b[0;34m,\u001b[0m\u001b[0;34m\u001b[0m\u001b[0;34m\u001b[0m\u001b[0m\n\u001b[0m\u001b[1;32m    174\u001b[0m             \u001b[0mname\u001b[0m\u001b[0;34m=\u001b[0m\u001b[0;34m'smile'\u001b[0m\u001b[0;34m,\u001b[0m\u001b[0;34m\u001b[0m\u001b[0;34m\u001b[0m\u001b[0m\n\u001b[1;32m    175\u001b[0m             \u001b[0mparams\u001b[0m\u001b[0;34m=\u001b[0m\u001b[0;32mNone\u001b[0m\u001b[0;34m,\u001b[0m\u001b[0;34m\u001b[0m\u001b[0;34m\u001b[0m\u001b[0m\n",
      "\u001b[0;32m~/.local/lib/python3.8/site-packages/opensmile/core/smile.py\u001b[0m in \u001b[0;36m_feature_names\u001b[0;34m(self)\u001b[0m\n\u001b[1;32m    331\u001b[0m             \u001b[0mconfig\u001b[0m\u001b[0;34m.\u001b[0m\u001b[0mEXTERNAL_INPUT_CONFIG\u001b[0m\u001b[0;34m\u001b[0m\u001b[0;34m\u001b[0m\u001b[0m\n\u001b[1;32m    332\u001b[0m         )\n\u001b[0;32m--> 333\u001b[0;31m         \u001b[0msmile\u001b[0m \u001b[0;34m=\u001b[0m \u001b[0mself\u001b[0m\u001b[0;34m.\u001b[0m\u001b[0m_smile\u001b[0m\u001b[0;34m(\u001b[0m\u001b[0moptions\u001b[0m\u001b[0;34m=\u001b[0m\u001b[0moptions\u001b[0m\u001b[0;34m)\u001b[0m\u001b[0;34m\u001b[0m\u001b[0;34m\u001b[0m\u001b[0m\n\u001b[0m\u001b[1;32m    334\u001b[0m         num_elements = smile.external_sink_get_num_elements(\n\u001b[1;32m    335\u001b[0m             \u001b[0mconfig\u001b[0m\u001b[0;34m.\u001b[0m\u001b[0mEXTERNAL_OUTPUT_COMPONENT\u001b[0m\u001b[0;34m\u001b[0m\u001b[0;34m\u001b[0m\u001b[0m\n",
      "\u001b[0;32m~/.local/lib/python3.8/site-packages/opensmile/core/smile.py\u001b[0m in \u001b[0;36m_smile\u001b[0;34m(self, options)\u001b[0m\n\u001b[1;32m    422\u001b[0m         \u001b[0;34mr\"\"\"Set up smile instance.\"\"\"\u001b[0m\u001b[0;34m\u001b[0m\u001b[0;34m\u001b[0m\u001b[0m\n\u001b[1;32m    423\u001b[0m         \u001b[0msmile\u001b[0m \u001b[0;34m=\u001b[0m \u001b[0mOpenSMILE\u001b[0m\u001b[0;34m(\u001b[0m\u001b[0;34m)\u001b[0m\u001b[0;34m\u001b[0m\u001b[0;34m\u001b[0m\u001b[0m\n\u001b[0;32m--> 424\u001b[0;31m         smile.initialize(\n\u001b[0m\u001b[1;32m    425\u001b[0m             \u001b[0mconfig_file\u001b[0m\u001b[0;34m=\u001b[0m\u001b[0mself\u001b[0m\u001b[0;34m.\u001b[0m\u001b[0mconfig_path\u001b[0m\u001b[0;34m,\u001b[0m\u001b[0;34m\u001b[0m\u001b[0;34m\u001b[0m\u001b[0m\n\u001b[1;32m    426\u001b[0m             \u001b[0moptions\u001b[0m\u001b[0;34m=\u001b[0m\u001b[0moptions\u001b[0m\u001b[0;34m,\u001b[0m\u001b[0;34m\u001b[0m\u001b[0;34m\u001b[0m\u001b[0m\n",
      "\u001b[0;32m~/.local/lib/python3.8/site-packages/opensmile/core/SMILEapi.py\u001b[0m in \u001b[0;36minitialize\u001b[0;34m(self, config_file, options, loglevel, debug, console_output, log_file)\u001b[0m\n\u001b[1;32m    238\u001b[0m         \u001b[0moptions_char_arr\u001b[0m \u001b[0;34m=\u001b[0m \u001b[0mc_char_p_arr\u001b[0m\u001b[0;34m(\u001b[0m\u001b[0moptions_flat\u001b[0m\u001b[0;34m)\u001b[0m\u001b[0;34m\u001b[0m\u001b[0;34m\u001b[0m\u001b[0m\n\u001b[1;32m    239\u001b[0m         \u001b[0mlog_file\u001b[0m \u001b[0;34m=\u001b[0m \u001b[0mbytes\u001b[0m\u001b[0;34m(\u001b[0m\u001b[0mlog_file\u001b[0m\u001b[0;34m,\u001b[0m \u001b[0;34m\"ascii\"\u001b[0m\u001b[0;34m)\u001b[0m \u001b[0;32mif\u001b[0m \u001b[0mlog_file\u001b[0m \u001b[0;32melse\u001b[0m \u001b[0mint\u001b[0m\u001b[0;34m(\u001b[0m\u001b[0;36m0\u001b[0m\u001b[0;34m)\u001b[0m\u001b[0;34m\u001b[0m\u001b[0;34m\u001b[0m\u001b[0m\n\u001b[0;32m--> 240\u001b[0;31m         self._check_smile_result(smileapi.smile_initialize(self._smileobj,\n\u001b[0m\u001b[1;32m    241\u001b[0m                                                            bytes(config_file,\n\u001b[1;32m    242\u001b[0m                                                                  \"ascii\"),\n",
      "\u001b[0;32m~/.local/lib/python3.8/site-packages/opensmile/core/SMILEapi.py\u001b[0m in \u001b[0;36m_check_smile_result\u001b[0;34m(self, result)\u001b[0m\n\u001b[1;32m    476\u001b[0m             \u001b[0mmessage\u001b[0m \u001b[0;34m=\u001b[0m \u001b[0msmileapi\u001b[0m\u001b[0;34m.\u001b[0m\u001b[0msmile_error_msg\u001b[0m\u001b[0;34m(\u001b[0m\u001b[0mself\u001b[0m\u001b[0;34m.\u001b[0m\u001b[0m_smileobj\u001b[0m\u001b[0;34m)\u001b[0m\u001b[0;34m\u001b[0m\u001b[0;34m\u001b[0m\u001b[0m\n\u001b[1;32m    477\u001b[0m             \u001b[0;32mif\u001b[0m \u001b[0mmessage\u001b[0m \u001b[0;32mis\u001b[0m \u001b[0;32mNone\u001b[0m \u001b[0;32mor\u001b[0m \u001b[0mlen\u001b[0m\u001b[0;34m(\u001b[0m\u001b[0mmessage\u001b[0m\u001b[0;34m)\u001b[0m \u001b[0;34m==\u001b[0m \u001b[0;36m0\u001b[0m\u001b[0;34m:\u001b[0m\u001b[0;34m\u001b[0m\u001b[0;34m\u001b[0m\u001b[0m\n\u001b[0;32m--> 478\u001b[0;31m                 \u001b[0;32mraise\u001b[0m \u001b[0mOpenSmileException\u001b[0m\u001b[0;34m(\u001b[0m\u001b[0mresult\u001b[0m\u001b[0;34m)\u001b[0m\u001b[0;34m\u001b[0m\u001b[0;34m\u001b[0m\u001b[0m\n\u001b[0m\u001b[1;32m    479\u001b[0m             \u001b[0;32melse\u001b[0m\u001b[0;34m:\u001b[0m\u001b[0;34m\u001b[0m\u001b[0;34m\u001b[0m\u001b[0m\n\u001b[1;32m    480\u001b[0m                 \u001b[0;32mraise\u001b[0m \u001b[0mOpenSmileException\u001b[0m\u001b[0;34m(\u001b[0m\u001b[0mresult\u001b[0m\u001b[0;34m,\u001b[0m \u001b[0mmessage\u001b[0m\u001b[0;34m.\u001b[0m\u001b[0mdecode\u001b[0m\u001b[0;34m(\u001b[0m\u001b[0;34m\"ascii\"\u001b[0m\u001b[0;34m)\u001b[0m\u001b[0;34m)\u001b[0m\u001b[0;34m\u001b[0m\u001b[0;34m\u001b[0m\u001b[0m\n",
      "\u001b[0;31mOpenSmileException\u001b[0m: Code: 6"
     ]
    }
   ],
   "source": [
    "with open('my.conf', 'w') as fp:\n",
    "    fp.write(config_str)\n",
    "\n",
    "smile = opensmile.Smile(\n",
    "    feature_set='my.conf',\n",
    "    feature_level='func',\n",
    ")\n",
    "print(smile.feature_names)"
   ]
  },
  {
   "cell_type": "code",
   "execution_count": 77,
   "metadata": {},
   "outputs": [],
   "source": [
    "with open('my.conf', 'w') as fp:\n",
    "    fp.write(config_str)"
   ]
  },
  {
   "cell_type": "code",
   "execution_count": 20,
   "metadata": {
    "scrolled": true
   },
   "outputs": [],
   "source": [
    "smile = opensmile.Smile(\n",
    "    feature_set=opensmile.FeatureSet.eGeMAPSv02,\n",
    "    #feature_set='my.conf',\n",
    "    \n",
    "    #feature_level=opensmile.FeatureLevel.Functionals,\n",
    "    feature_level=opensmile.FeatureLevel.LowLevelDescriptors,\n",
    ")\n",
    "#print(smile.feature_names)"
   ]
  },
  {
   "cell_type": "code",
   "execution_count": 28,
   "metadata": {},
   "outputs": [],
   "source": [
    "def get_GeMAPS1(filepath):\n",
    "    audio = librosa_to_audiosegment(filepath) # convert librosa array to audiosegment\n",
    "    sr = audio.frame_rate # get sample rate\n",
    "    audio = np.array(audio.get_array_of_samples()) # convert audiosegment to array\n",
    "    df = smile.process_signal(audio,sr).to_numpy() # get GeMAPS\n",
    "    return df\n",
    "\n",
    "def get_GeMAPS(path):\n",
    "    GeMAPS = []\n",
    "    for i in range(0,len(path)):\n",
    "        filepath = path.loc[i,'Path']\n",
    "        audio = librosa_to_audiosegment(filepath) # convert librosa array to audiosegment\n",
    "        sr = audio.frame_rate # get sample rate\n",
    "        audio = np.array(audio.get_array_of_samples()) # convert audiosegment to array\n",
    "        df = smile.process_signal(audio,sr) # get GeMAPS\n",
    "        GeMAPS.append(pd.DataFrame(df.mean(axis=0)).T) # take average\n",
    "        print('processing:',i)\n",
    "    \n",
    "    GeMAPS = pd.concat(GeMAPS).reset_index()\n",
    "    return GeMAPS"
   ]
  },
  {
   "cell_type": "code",
   "execution_count": 15,
   "metadata": {},
   "outputs": [
    {
     "data": {
      "text/plain": [
       "'/project/graziul/data/corpora/susas/speech/actual/roller/f1/free_oov_all/all1.sph'"
      ]
     },
     "execution_count": 15,
     "metadata": {},
     "output_type": "execute_result"
    }
   ],
   "source": [
    "# load path\n",
    "path = pd.read_csv('/project/graziul/ra/team_ser/susas_path.csv')\n",
    "path.drop(path.iloc[:, 0:1], inplace = True, axis = 1)\n",
    "path = path[['Path','Arousal','Valence']]\n",
    "\n",
    "filepath = path.loc[0,'Path']\n",
    "filepath"
   ]
  },
  {
   "cell_type": "code",
   "execution_count": 29,
   "metadata": {},
   "outputs": [],
   "source": [
    "a=get_GeMAPS1 (filepath)"
   ]
  },
  {
   "cell_type": "code",
   "execution_count": 30,
   "metadata": {},
   "outputs": [
    {
     "data": {
      "text/plain": [
       "array([[   6.2094   ,   -6.692044 ,   18.515762 , ..., 2372.8406   ,\n",
       "         577.22797  , -201.       ],\n",
       "       [   6.094591 ,   -7.1967063,   19.163605 , ..., 2425.487    ,\n",
       "         807.9421   , -201.       ],\n",
       "       [   6.053633 ,   -7.5610566,   20.287848 , ..., 2423.443    ,\n",
       "         784.4694   , -201.       ],\n",
       "       ...,\n",
       "       [   6.3575745,   -6.199922 ,   16.613966 , ..., 2480.6326   ,\n",
       "         630.1203   , -201.       ],\n",
       "       [   6.4271927,   -6.3704796,   16.449568 , ..., 2492.7798   ,\n",
       "         547.5786   , -201.       ],\n",
       "       [   6.3886313,   -6.778122 ,   17.756926 , ..., 2478.921    ,\n",
       "         698.3128   , -201.       ]], dtype=float32)"
      ]
     },
     "execution_count": 30,
     "metadata": {},
     "output_type": "execute_result"
    }
   ],
   "source": [
    "a"
   ]
  },
  {
   "cell_type": "code",
   "execution_count": 34,
   "metadata": {},
   "outputs": [
    {
     "data": {
      "text/plain": [
       "array([1.0112112e-01, 4.5510450e-01, 7.8987169e-01, 9.3159815e-03,\n",
       "       4.1772798e-03, 2.5513726e-01, 1.0618246e+00, 1.6395235e+00,\n",
       "       2.2036190e+00, 2.6156530e+00, 0.0000000e+00, 0.0000000e+00,\n",
       "       0.0000000e+00, 0.0000000e+00, 0.0000000e+00, 0.0000000e+00,\n",
       "       3.4938229e+01, 1.4659906e+02, 0.0000000e+00, 7.0289047e+01,\n",
       "       1.8171678e+02, 0.0000000e+00, 6.5438782e+01, 1.5797600e+02,\n",
       "       0.0000000e+00], dtype=float32)"
      ]
     },
     "execution_count": 34,
     "metadata": {},
     "output_type": "execute_result"
    }
   ],
   "source": [
    "a.std(axis=0)"
   ]
  },
  {
   "cell_type": "code",
   "execution_count": 35,
   "metadata": {
    "scrolled": true
   },
   "outputs": [],
   "source": [
    "#GeMAPS_0105 = get_GeMAPS(path)"
   ]
  },
  {
   "cell_type": "code",
   "execution_count": 10,
   "metadata": {
    "scrolled": true
   },
   "outputs": [
    {
     "data": {
      "text/html": [
       "<div>\n",
       "<style scoped>\n",
       "    .dataframe tbody tr th:only-of-type {\n",
       "        vertical-align: middle;\n",
       "    }\n",
       "\n",
       "    .dataframe tbody tr th {\n",
       "        vertical-align: top;\n",
       "    }\n",
       "\n",
       "    .dataframe thead th {\n",
       "        text-align: right;\n",
       "    }\n",
       "</style>\n",
       "<table border=\"1\" class=\"dataframe\">\n",
       "  <thead>\n",
       "    <tr style=\"text-align: right;\">\n",
       "      <th></th>\n",
       "      <th>Path</th>\n",
       "      <th>Arousal</th>\n",
       "      <th>Valence</th>\n",
       "      <th>Loudness_sma3</th>\n",
       "      <th>alphaRatio_sma3</th>\n",
       "      <th>hammarbergIndex_sma3</th>\n",
       "      <th>slope0-500_sma3</th>\n",
       "      <th>slope500-1500_sma3</th>\n",
       "      <th>F0semitoneFrom27.5Hz_sma3nz</th>\n",
       "      <th>jitterLocal_sma3nz</th>\n",
       "      <th>...</th>\n",
       "      <th>HNRdBACF_sma3nz</th>\n",
       "      <th>logRelF0-H1-H2_sma3nz</th>\n",
       "      <th>logRelF0-H1-A3_sma3nz</th>\n",
       "      <th>F1frequency_sma3nz</th>\n",
       "      <th>F1bandwidth_sma3nz</th>\n",
       "      <th>F1amplitudeLogRelF0_sma3nz</th>\n",
       "      <th>F2frequency_sma3nz</th>\n",
       "      <th>F2amplitudeLogRelF0_sma3nz</th>\n",
       "      <th>F3frequency_sma3nz</th>\n",
       "      <th>F3amplitudeLogRelF0_sma3nz</th>\n",
       "    </tr>\n",
       "  </thead>\n",
       "  <tbody>\n",
       "    <tr>\n",
       "      <th>0</th>\n",
       "      <td>/project/graziul/data/corpora/susas/speech/act...</td>\n",
       "      <td>High</td>\n",
       "      <td>Negative</td>\n",
       "      <td>6.292282</td>\n",
       "      <td>-6.763290</td>\n",
       "      <td>18.529961</td>\n",
       "      <td>-0.086114</td>\n",
       "      <td>-0.002062</td>\n",
       "      <td>0.0</td>\n",
       "      <td>0.0</td>\n",
       "      <td>...</td>\n",
       "      <td>0.0</td>\n",
       "      <td>0.0</td>\n",
       "      <td>0.0</td>\n",
       "      <td>619.362793</td>\n",
       "      <td>730.045105</td>\n",
       "      <td>-201.0</td>\n",
       "      <td>1487.981445</td>\n",
       "      <td>-201.0</td>\n",
       "      <td>2418.518311</td>\n",
       "      <td>-201.0</td>\n",
       "    </tr>\n",
       "    <tr>\n",
       "      <th>1</th>\n",
       "      <td>/project/graziul/data/corpora/susas/speech/act...</td>\n",
       "      <td>High</td>\n",
       "      <td>Negative</td>\n",
       "      <td>6.322670</td>\n",
       "      <td>-6.638078</td>\n",
       "      <td>18.540451</td>\n",
       "      <td>-0.087078</td>\n",
       "      <td>-0.001739</td>\n",
       "      <td>0.0</td>\n",
       "      <td>0.0</td>\n",
       "      <td>...</td>\n",
       "      <td>0.0</td>\n",
       "      <td>0.0</td>\n",
       "      <td>0.0</td>\n",
       "      <td>627.472534</td>\n",
       "      <td>710.429443</td>\n",
       "      <td>-201.0</td>\n",
       "      <td>1501.422119</td>\n",
       "      <td>-201.0</td>\n",
       "      <td>2410.086670</td>\n",
       "      <td>-201.0</td>\n",
       "    </tr>\n",
       "  </tbody>\n",
       "</table>\n",
       "<p>2 rows × 21 columns</p>\n",
       "</div>"
      ],
      "text/plain": [
       "                                                Path Arousal   Valence  \\\n",
       "0  /project/graziul/data/corpora/susas/speech/act...    High  Negative   \n",
       "1  /project/graziul/data/corpora/susas/speech/act...    High  Negative   \n",
       "\n",
       "   Loudness_sma3  alphaRatio_sma3  hammarbergIndex_sma3  slope0-500_sma3  \\\n",
       "0       6.292282        -6.763290             18.529961        -0.086114   \n",
       "1       6.322670        -6.638078             18.540451        -0.087078   \n",
       "\n",
       "   slope500-1500_sma3  F0semitoneFrom27.5Hz_sma3nz  jitterLocal_sma3nz  ...  \\\n",
       "0           -0.002062                          0.0                 0.0  ...   \n",
       "1           -0.001739                          0.0                 0.0  ...   \n",
       "\n",
       "   HNRdBACF_sma3nz  logRelF0-H1-H2_sma3nz  logRelF0-H1-A3_sma3nz  \\\n",
       "0              0.0                    0.0                    0.0   \n",
       "1              0.0                    0.0                    0.0   \n",
       "\n",
       "   F1frequency_sma3nz  F1bandwidth_sma3nz  F1amplitudeLogRelF0_sma3nz  \\\n",
       "0          619.362793          730.045105                      -201.0   \n",
       "1          627.472534          710.429443                      -201.0   \n",
       "\n",
       "   F2frequency_sma3nz  F2amplitudeLogRelF0_sma3nz  F3frequency_sma3nz  \\\n",
       "0         1487.981445                      -201.0         2418.518311   \n",
       "1         1501.422119                      -201.0         2410.086670   \n",
       "\n",
       "   F3amplitudeLogRelF0_sma3nz  \n",
       "0                      -201.0  \n",
       "1                      -201.0  \n",
       "\n",
       "[2 rows x 21 columns]"
      ]
     },
     "execution_count": 10,
     "metadata": {},
     "output_type": "execute_result"
    }
   ],
   "source": [
    "GeMAPS_0105_features = pd.concat([path, GeMAPS_0105.iloc[:,1:]], axis=1)\n",
    "GeMAPS_0105_features.head(2)"
   ]
  },
  {
   "cell_type": "code",
   "execution_count": 16,
   "metadata": {
    "scrolled": true
   },
   "outputs": [],
   "source": [
    "#GeMAPS_0105 = get_GeMAPS(path)"
   ]
  },
  {
   "cell_type": "code",
   "execution_count": 14,
   "metadata": {},
   "outputs": [],
   "source": [
    "#GeMAPS_0105_features.to_csv('/project/graziul/ra/team_ser/GeMAPS_0105.csv')"
   ]
  },
  {
   "cell_type": "code",
   "execution_count": 18,
   "metadata": {},
   "outputs": [],
   "source": []
  },
  {
   "cell_type": "code",
   "execution_count": null,
   "metadata": {},
   "outputs": [],
   "source": []
  },
  {
   "cell_type": "code",
   "execution_count": null,
   "metadata": {},
   "outputs": [],
   "source": []
  },
  {
   "cell_type": "code",
   "execution_count": null,
   "metadata": {},
   "outputs": [],
   "source": []
  },
  {
   "cell_type": "code",
   "execution_count": null,
   "metadata": {},
   "outputs": [],
   "source": []
  }
 ],
 "metadata": {
  "kernelspec": {
   "display_name": "Python 3 (ipykernel)",
   "language": "python",
   "name": "python3"
  },
  "language_info": {
   "codemirror_mode": {
    "name": "ipython",
    "version": 3
   },
   "file_extension": ".py",
   "mimetype": "text/x-python",
   "name": "python",
   "nbconvert_exporter": "python",
   "pygments_lexer": "ipython3",
   "version": "3.8.5"
  }
 },
 "nbformat": 4,
 "nbformat_minor": 4
}
