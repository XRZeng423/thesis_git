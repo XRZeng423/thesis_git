{
 "cells": [
  {
   "cell_type": "code",
   "execution_count": 1,
   "metadata": {},
   "outputs": [],
   "source": [
    "import pandas as pd\n",
    "import numpy as np\n",
    "import os"
   ]
  },
  {
   "cell_type": "code",
   "execution_count": 95,
   "metadata": {},
   "outputs": [],
   "source": [
    "import zipfile\n",
    "\n",
    "# zip file handler  \n",
    "zip = zipfile.ZipFile('/home/xuranzeng/thesis/Audio_Speech_Actors_01-24.zip')\n",
    "\n",
    "# list available files in the container\n",
    "filename = zip.namelist()\n",
    "\n",
    "# clean path and file names\n",
    "audioname = (item for item in filename if item.endswith('wav')) \n",
    "data = pd.DataFrame(list(audioname))\n",
    "data = pd.concat([data, data[0].str.split('/', 2, expand=True)], axis=1) # split path \n",
    "data = pd.concat([data, data[1].str.split('-', 7, expand=True)], axis=1) # split company and day\n",
    "data = pd.concat([data, data[6].str.split('.', 2, expand=True)], axis=1).iloc[: , [0,3,4,5,6,7,8,10]] # split company and day\n",
    "\n",
    "data.columns=[\"Path\",\"Modality\", \"Channel\", \"Emotion\", \"Intensity\",\"Statement\",\"Repetition\",\"Actor\"] # rename column\n",
    "\n",
    "data = data[['Path','Emotion',\"Intensity\"]] # delete useless columns\n",
    "\n",
    "# path\n",
    "base_path='/home/xuranzeng/thesis/RAV/Audio_Speech_Actors_01-24/'\n",
    "data['Complete_Path'] = base_path + data['Path'].astype(str)\n",
    "\n",
    "data = data[[\"Complete_Path\",\"Emotion\"]] # delete useless columns\n",
    "data.columns=[\"Path\",\"Emotion\"]"
   ]
  },
  {
   "cell_type": "code",
   "execution_count": 43,
   "metadata": {},
   "outputs": [],
   "source": []
  },
  {
   "cell_type": "code",
   "execution_count": 107,
   "metadata": {},
   "outputs": [
    {
     "data": {
      "text/html": [
       "<div>\n",
       "<style scoped>\n",
       "    .dataframe tbody tr th:only-of-type {\n",
       "        vertical-align: middle;\n",
       "    }\n",
       "\n",
       "    .dataframe tbody tr th {\n",
       "        vertical-align: top;\n",
       "    }\n",
       "\n",
       "    .dataframe thead th {\n",
       "        text-align: right;\n",
       "    }\n",
       "</style>\n",
       "<table border=\"1\" class=\"dataframe\">\n",
       "  <thead>\n",
       "    <tr style=\"text-align: right;\">\n",
       "      <th></th>\n",
       "      <th>Path</th>\n",
       "      <th>Emotion</th>\n",
       "      <th>Arousal</th>\n",
       "      <th>Valence</th>\n",
       "    </tr>\n",
       "  </thead>\n",
       "  <tbody>\n",
       "    <tr>\n",
       "      <th>1435</th>\n",
       "      <td>/home/xuranzeng/thesis/RAV/Audio_Speech_Actors...</td>\n",
       "      <td>08</td>\n",
       "      <td>Surprised</td>\n",
       "      <td>E</td>\n",
       "    </tr>\n",
       "    <tr>\n",
       "      <th>1436</th>\n",
       "      <td>/home/xuranzeng/thesis/RAV/Audio_Speech_Actors...</td>\n",
       "      <td>08</td>\n",
       "      <td>Surprised</td>\n",
       "      <td>E</td>\n",
       "    </tr>\n",
       "    <tr>\n",
       "      <th>1437</th>\n",
       "      <td>/home/xuranzeng/thesis/RAV/Audio_Speech_Actors...</td>\n",
       "      <td>08</td>\n",
       "      <td>Surprised</td>\n",
       "      <td>E</td>\n",
       "    </tr>\n",
       "    <tr>\n",
       "      <th>1438</th>\n",
       "      <td>/home/xuranzeng/thesis/RAV/Audio_Speech_Actors...</td>\n",
       "      <td>08</td>\n",
       "      <td>Surprised</td>\n",
       "      <td>E</td>\n",
       "    </tr>\n",
       "    <tr>\n",
       "      <th>1439</th>\n",
       "      <td>/home/xuranzeng/thesis/RAV/Audio_Speech_Actors...</td>\n",
       "      <td>08</td>\n",
       "      <td>Surprised</td>\n",
       "      <td>E</td>\n",
       "    </tr>\n",
       "  </tbody>\n",
       "</table>\n",
       "</div>"
      ],
      "text/plain": [
       "                                                   Path Emotion    Arousal  \\\n",
       "1435  /home/xuranzeng/thesis/RAV/Audio_Speech_Actors...      08  Surprised   \n",
       "1436  /home/xuranzeng/thesis/RAV/Audio_Speech_Actors...      08  Surprised   \n",
       "1437  /home/xuranzeng/thesis/RAV/Audio_Speech_Actors...      08  Surprised   \n",
       "1438  /home/xuranzeng/thesis/RAV/Audio_Speech_Actors...      08  Surprised   \n",
       "1439  /home/xuranzeng/thesis/RAV/Audio_Speech_Actors...      08  Surprised   \n",
       "\n",
       "     Valence  \n",
       "1435       E  \n",
       "1436       E  \n",
       "1437       E  \n",
       "1438       E  \n",
       "1439       E  "
      ]
     },
     "execution_count": 107,
     "metadata": {},
     "output_type": "execute_result"
    }
   ],
   "source": [
    "data.tail()"
   ]
  },
  {
   "cell_type": "code",
   "execution_count": 96,
   "metadata": {},
   "outputs": [],
   "source": [
    "data.loc[data['Emotion']=='01','Arousal'] = 'Neutral'\n",
    "data.loc[data['Emotion']=='02','Arousal'] = 'Calm'\n",
    "data.loc[data['Emotion']=='03','Arousal'] = 'Happy'\n",
    "data.loc[data['Emotion']=='04','Arousal'] = 'Sad'\n",
    "data.loc[data['Emotion']=='05','Arousal'] = 'Angry'\n",
    "data.loc[data['Emotion']=='06','Arousal'] = 'Fearful'\n",
    "data.loc[data['Emotion']=='07','Arousal'] = 'Disgust'\n",
    "data.loc[data['Emotion']=='08','Arousal'] = 'Surprised'\n",
    "data[['Valence']]='E'"
   ]
  },
  {
   "cell_type": "code",
   "execution_count": 86,
   "metadata": {},
   "outputs": [],
   "source": [
    "#data = data[[\"Path\",\"Arousal\",\"Valence\",'']] # delete useless columns"
   ]
  },
  {
   "cell_type": "code",
   "execution_count": 108,
   "metadata": {},
   "outputs": [],
   "source": [
    "data.to_csv('/home/xuranzeng/thesis/RAV_path.csv')"
   ]
  },
  {
   "cell_type": "code",
   "execution_count": null,
   "metadata": {},
   "outputs": [],
   "source": []
  },
  {
   "cell_type": "code",
   "execution_count": 98,
   "metadata": {},
   "outputs": [
    {
     "data": {
      "text/html": [
       "<div>\n",
       "<style scoped>\n",
       "    .dataframe tbody tr th:only-of-type {\n",
       "        vertical-align: middle;\n",
       "    }\n",
       "\n",
       "    .dataframe tbody tr th {\n",
       "        vertical-align: top;\n",
       "    }\n",
       "\n",
       "    .dataframe thead th {\n",
       "        text-align: right;\n",
       "    }\n",
       "</style>\n",
       "<table border=\"1\" class=\"dataframe\">\n",
       "  <thead>\n",
       "    <tr style=\"text-align: right;\">\n",
       "      <th></th>\n",
       "      <th>Path</th>\n",
       "      <th>Emotion</th>\n",
       "      <th>Arousal</th>\n",
       "      <th>Valence</th>\n",
       "    </tr>\n",
       "  </thead>\n",
       "  <tbody>\n",
       "    <tr>\n",
       "      <th>0</th>\n",
       "      <td>/home/xuranzeng/thesis/RAV/Audio_Speech_Actors...</td>\n",
       "      <td>01</td>\n",
       "      <td>Neutral</td>\n",
       "      <td>E</td>\n",
       "    </tr>\n",
       "    <tr>\n",
       "      <th>1</th>\n",
       "      <td>/home/xuranzeng/thesis/RAV/Audio_Speech_Actors...</td>\n",
       "      <td>01</td>\n",
       "      <td>Neutral</td>\n",
       "      <td>E</td>\n",
       "    </tr>\n",
       "    <tr>\n",
       "      <th>2</th>\n",
       "      <td>/home/xuranzeng/thesis/RAV/Audio_Speech_Actors...</td>\n",
       "      <td>01</td>\n",
       "      <td>Neutral</td>\n",
       "      <td>E</td>\n",
       "    </tr>\n",
       "    <tr>\n",
       "      <th>3</th>\n",
       "      <td>/home/xuranzeng/thesis/RAV/Audio_Speech_Actors...</td>\n",
       "      <td>01</td>\n",
       "      <td>Neutral</td>\n",
       "      <td>E</td>\n",
       "    </tr>\n",
       "    <tr>\n",
       "      <th>4</th>\n",
       "      <td>/home/xuranzeng/thesis/RAV/Audio_Speech_Actors...</td>\n",
       "      <td>02</td>\n",
       "      <td>Calm</td>\n",
       "      <td>E</td>\n",
       "    </tr>\n",
       "  </tbody>\n",
       "</table>\n",
       "</div>"
      ],
      "text/plain": [
       "                                                Path Emotion  Arousal Valence\n",
       "0  /home/xuranzeng/thesis/RAV/Audio_Speech_Actors...      01  Neutral       E\n",
       "1  /home/xuranzeng/thesis/RAV/Audio_Speech_Actors...      01  Neutral       E\n",
       "2  /home/xuranzeng/thesis/RAV/Audio_Speech_Actors...      01  Neutral       E\n",
       "3  /home/xuranzeng/thesis/RAV/Audio_Speech_Actors...      01  Neutral       E\n",
       "4  /home/xuranzeng/thesis/RAV/Audio_Speech_Actors...      02     Calm       E"
      ]
     },
     "execution_count": 98,
     "metadata": {},
     "output_type": "execute_result"
    }
   ],
   "source": [
    "data.head()"
   ]
  },
  {
   "cell_type": "code",
   "execution_count": 93,
   "metadata": {},
   "outputs": [],
   "source": [
    "import json\n",
    "feature_path = '/home/xuranzeng/thesis_git/code/data/susas_feature.json'\n",
    "df = pd.read_json(feature_path)"
   ]
  },
  {
   "cell_type": "code",
   "execution_count": 101,
   "metadata": {},
   "outputs": [
    {
     "data": {
      "text/html": [
       "<div>\n",
       "<style scoped>\n",
       "    .dataframe tbody tr th:only-of-type {\n",
       "        vertical-align: middle;\n",
       "    }\n",
       "\n",
       "    .dataframe tbody tr th {\n",
       "        vertical-align: top;\n",
       "    }\n",
       "\n",
       "    .dataframe thead th {\n",
       "        text-align: right;\n",
       "    }\n",
       "</style>\n",
       "<table border=\"1\" class=\"dataframe\">\n",
       "  <thead>\n",
       "    <tr style=\"text-align: right;\">\n",
       "      <th></th>\n",
       "      <th>path</th>\n",
       "      <th>gemaps</th>\n",
       "    </tr>\n",
       "  </thead>\n",
       "  <tbody>\n",
       "    <tr>\n",
       "      <th>0</th>\n",
       "      <td>/home/xuranzeng/thesis/RAV/Audio_Speech_Actors...</td>\n",
       "      <td>[3.659473419189453, -2.890711069107055, 10.133...</td>\n",
       "    </tr>\n",
       "    <tr>\n",
       "      <th>1</th>\n",
       "      <td>/home/xuranzeng/thesis/RAV/Audio_Speech_Actors...</td>\n",
       "      <td>[3.919533967971801, -2.573864221572876, 10.428...</td>\n",
       "    </tr>\n",
       "    <tr>\n",
       "      <th>2</th>\n",
       "      <td>/home/xuranzeng/thesis/RAV/Audio_Speech_Actors...</td>\n",
       "      <td>[3.678606271743774, -2.692836761474609, 10.019...</td>\n",
       "    </tr>\n",
       "    <tr>\n",
       "      <th>3</th>\n",
       "      <td>/home/xuranzeng/thesis/RAV/Audio_Speech_Actors...</td>\n",
       "      <td>[4.214780330657959, -2.6223597526550293, 10.92...</td>\n",
       "    </tr>\n",
       "    <tr>\n",
       "      <th>4</th>\n",
       "      <td>/home/xuranzeng/thesis/RAV/Audio_Speech_Actors...</td>\n",
       "      <td>[3.76860761642456, -3.262104511260986, 10.5903...</td>\n",
       "    </tr>\n",
       "  </tbody>\n",
       "</table>\n",
       "</div>"
      ],
      "text/plain": [
       "                                                path  \\\n",
       "0  /home/xuranzeng/thesis/RAV/Audio_Speech_Actors...   \n",
       "1  /home/xuranzeng/thesis/RAV/Audio_Speech_Actors...   \n",
       "2  /home/xuranzeng/thesis/RAV/Audio_Speech_Actors...   \n",
       "3  /home/xuranzeng/thesis/RAV/Audio_Speech_Actors...   \n",
       "4  /home/xuranzeng/thesis/RAV/Audio_Speech_Actors...   \n",
       "\n",
       "                                              gemaps  \n",
       "0  [3.659473419189453, -2.890711069107055, 10.133...  \n",
       "1  [3.919533967971801, -2.573864221572876, 10.428...  \n",
       "2  [3.678606271743774, -2.692836761474609, 10.019...  \n",
       "3  [4.214780330657959, -2.6223597526550293, 10.92...  \n",
       "4  [3.76860761642456, -3.262104511260986, 10.5903...  "
      ]
     },
     "execution_count": 101,
     "metadata": {},
     "output_type": "execute_result"
    }
   ],
   "source": [
    "df.head()"
   ]
  },
  {
   "cell_type": "code",
   "execution_count": 103,
   "metadata": {
    "scrolled": true
   },
   "outputs": [],
   "source": [
    "a = df.merge(data,left_on='path',right_on='Path')"
   ]
  },
  {
   "cell_type": "code",
   "execution_count": 105,
   "metadata": {},
   "outputs": [],
   "source": [
    "\n",
    "a = a[[\"path\",\"gemaps\",\"Emotion\",\"Arousal\",\"Valence\"]] # delete useless columns\n",
    "a .columns=[\"path\",\"gemaps\",\"emotion\",\"arousal\",\"valence\"]"
   ]
  },
  {
   "cell_type": "code",
   "execution_count": 106,
   "metadata": {},
   "outputs": [],
   "source": [
    "a.to_json('/home/xuranzeng/thesis_git/code/data/susas_feature2.json')"
   ]
  }
 ],
 "metadata": {
  "kernelspec": {
   "display_name": "Python 3 (ipykernel)",
   "language": "python",
   "name": "python3"
  },
  "language_info": {
   "codemirror_mode": {
    "name": "ipython",
    "version": 3
   },
   "file_extension": ".py",
   "mimetype": "text/x-python",
   "name": "python",
   "nbconvert_exporter": "python",
   "pygments_lexer": "ipython3",
   "version": "3.8.5"
  }
 },
 "nbformat": 4,
 "nbformat_minor": 4
}
