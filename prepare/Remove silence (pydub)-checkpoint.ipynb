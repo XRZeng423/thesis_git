{
 "cells": [
  {
   "cell_type": "code",
   "execution_count": 70,
   "metadata": {},
   "outputs": [
    {
     "ename": "OSError",
     "evalue": "[Errno 122] Disk quota exceeded: '/project/graziul/ra/team_ser/data/zone1-20180814.wav'",
     "output_type": "error",
     "traceback": [
      "\u001b[0;31m---------------------------------------------------------------------------\u001b[0m",
      "\u001b[0;31mOSError\u001b[0m                                   Traceback (most recent call last)",
      "\u001b[0;32m<ipython-input-70-7b8b93d9ff42>\u001b[0m in \u001b[0;36m<module>\u001b[0;34m\u001b[0m\n\u001b[1;32m     23\u001b[0m     \u001b[0msound\u001b[0m \u001b[0;34m=\u001b[0m \u001b[0msound\u001b[0m \u001b[0;34m+\u001b[0m \u001b[0mAudioSegment\u001b[0m\u001b[0;34m.\u001b[0m\u001b[0mfrom_mp3\u001b[0m\u001b[0;34m(\u001b[0m\u001b[0minfiles\u001b[0m\u001b[0;34m[\u001b[0m\u001b[0mi\u001b[0m\u001b[0;34m]\u001b[0m\u001b[0;34m)\u001b[0m\u001b[0;34m\u001b[0m\u001b[0;34m\u001b[0m\u001b[0m\n\u001b[1;32m     24\u001b[0m \u001b[0;34m\u001b[0m\u001b[0m\n\u001b[0;32m---> 25\u001b[0;31m \u001b[0msound\u001b[0m\u001b[0;34m.\u001b[0m\u001b[0mexport\u001b[0m\u001b[0;34m(\u001b[0m\u001b[0moutfile\u001b[0m\u001b[0;34m,\u001b[0m \u001b[0mformat\u001b[0m\u001b[0;34m=\u001b[0m\u001b[0;34m\"wav\"\u001b[0m\u001b[0;34m)\u001b[0m\u001b[0;34m\u001b[0m\u001b[0;34m\u001b[0m\u001b[0m\n\u001b[0m",
      "\u001b[0;32m~/.local/lib/python3.8/site-packages/pydub/audio_segment.py\u001b[0m in \u001b[0;36mexport\u001b[0;34m(self, out_f, format, codec, bitrate, parameters, tags, id3v2_version, cover)\u001b[0m\n\u001b[1;32m    865\u001b[0m                     'or call export(format=\"raw\") with no codec or parameters')\n\u001b[1;32m    866\u001b[0m \u001b[0;34m\u001b[0m\u001b[0m\n\u001b[0;32m--> 867\u001b[0;31m         \u001b[0mout_f\u001b[0m\u001b[0;34m,\u001b[0m \u001b[0m_\u001b[0m \u001b[0;34m=\u001b[0m \u001b[0m_fd_or_path_or_tempfile\u001b[0m\u001b[0;34m(\u001b[0m\u001b[0mout_f\u001b[0m\u001b[0;34m,\u001b[0m \u001b[0;34m'wb+'\u001b[0m\u001b[0;34m)\u001b[0m\u001b[0;34m\u001b[0m\u001b[0;34m\u001b[0m\u001b[0m\n\u001b[0m\u001b[1;32m    868\u001b[0m         \u001b[0mout_f\u001b[0m\u001b[0;34m.\u001b[0m\u001b[0mseek\u001b[0m\u001b[0;34m(\u001b[0m\u001b[0;36m0\u001b[0m\u001b[0;34m)\u001b[0m\u001b[0;34m\u001b[0m\u001b[0;34m\u001b[0m\u001b[0m\n\u001b[1;32m    869\u001b[0m \u001b[0;34m\u001b[0m\u001b[0m\n",
      "\u001b[0;32m~/.local/lib/python3.8/site-packages/pydub/utils.py\u001b[0m in \u001b[0;36m_fd_or_path_or_tempfile\u001b[0;34m(fd, mode, tempfile)\u001b[0m\n\u001b[1;32m     58\u001b[0m \u001b[0;34m\u001b[0m\u001b[0m\n\u001b[1;32m     59\u001b[0m     \u001b[0;32mif\u001b[0m \u001b[0misinstance\u001b[0m\u001b[0;34m(\u001b[0m\u001b[0mfd\u001b[0m\u001b[0;34m,\u001b[0m \u001b[0mbasestring\u001b[0m\u001b[0;34m)\u001b[0m\u001b[0;34m:\u001b[0m\u001b[0;34m\u001b[0m\u001b[0;34m\u001b[0m\u001b[0m\n\u001b[0;32m---> 60\u001b[0;31m         \u001b[0mfd\u001b[0m \u001b[0;34m=\u001b[0m \u001b[0mopen\u001b[0m\u001b[0;34m(\u001b[0m\u001b[0mfd\u001b[0m\u001b[0;34m,\u001b[0m \u001b[0mmode\u001b[0m\u001b[0;34m=\u001b[0m\u001b[0mmode\u001b[0m\u001b[0;34m)\u001b[0m\u001b[0;34m\u001b[0m\u001b[0;34m\u001b[0m\u001b[0m\n\u001b[0m\u001b[1;32m     61\u001b[0m         \u001b[0mclose_fd\u001b[0m \u001b[0;34m=\u001b[0m \u001b[0;32mTrue\u001b[0m\u001b[0;34m\u001b[0m\u001b[0;34m\u001b[0m\u001b[0m\n\u001b[1;32m     62\u001b[0m \u001b[0;34m\u001b[0m\u001b[0m\n",
      "\u001b[0;31mOSError\u001b[0m: [Errno 122] Disk quota exceeded: '/project/graziul/ra/team_ser/data/zone1-20180814.wav'"
     ]
    }
   ],
   "source": [
    "import librosa\n",
    "import os\n",
    "import pandas as pd\n",
    "from pydub import AudioSegment\n",
    "import numpy as np\n",
    "import wave\n",
    "import os\n",
    "\n",
    "filepath = \"/home/xuranzeng/project/data/2018_08_14\"\n",
    "\n",
    "infiles = os.listdir(filepath)\n",
    "\n",
    "infile_path = []\n",
    "for infile in infiles:\n",
    "    infile_path.append(filepath+\"/\"+infile)\n",
    "    \n",
    "infiles = infile_path\n",
    "outfile = \"/project/graziul/ra/team_ser/data/zone1-20180814.wav\"\n",
    "#outfile = \"/home/xuranzeng/project/data/zone1-20180814.wav\"\n",
    "\n",
    "sound= AudioSegment.from_mp3(infiles[0])\n",
    "for i in range(1,(len(infile_path)-1)):\n",
    "    sound = sound + AudioSegment.from_mp3(infiles[i])\n",
    "\n",
    "sound.export(outfile, format=\"wav\")"
   ]
  },
  {
   "cell_type": "code",
   "execution_count": 69,
   "metadata": {
    "scrolled": true
   },
   "outputs": [
    {
     "data": {
      "text/plain": [
       "['/home/xuranzeng/project/data/2018_08_22/201808220423-483408-27730.mp3',\n",
       " '/home/xuranzeng/project/data/2018_08_22/201808221948-676529-27730.mp3',\n",
       " '/home/xuranzeng/project/data/2018_08_22/201808220154-420977-27730.mp3',\n",
       " '/home/xuranzeng/project/data/2018_08_22/201808222048-298190-27730.mp3',\n",
       " '/home/xuranzeng/project/data/2018_08_22/201808220722-783890-27730.mp3',\n",
       " '/home/xuranzeng/project/data/2018_08_22/201808220523-460485-27730.mp3',\n",
       " '/home/xuranzeng/project/data/2018_08_22/201808222317-318295-27730.mp3',\n",
       " '/home/xuranzeng/project/data/2018_08_22/201808212355-218015-27730.mp3',\n",
       " '/home/xuranzeng/project/data/2018_08_22/201808220124-107104-27730.mp3',\n",
       " '/home/xuranzeng/project/data/2018_08_22/201808221918-343885-27730.mp3',\n",
       " '/home/xuranzeng/project/data/2018_08_22/201808222247-169025-27730.mp3',\n",
       " '/home/xuranzeng/project/data/2018_08_22/201808221450-75039-27730.mp3',\n",
       " '/home/xuranzeng/project/data/2018_08_22/201808221819-506613-27730.mp3',\n",
       " '/home/xuranzeng/project/data/2018_08_22/201808221619-734491-27730.mp3',\n",
       " '/home/xuranzeng/project/data/2018_08_22/201808221420-529155-27730.mp3',\n",
       " '/home/xuranzeng/project/data/2018_08_22/201808221320-529422-27730.mp3',\n",
       " '/home/xuranzeng/project/data/2018_08_22/201808220652-883434-27730.mp3',\n",
       " '/home/xuranzeng/project/data/2018_08_22/201808222147-924752-27730.mp3',\n",
       " '/home/xuranzeng/project/data/2018_08_22/201808221749-861118-27730.mp3',\n",
       " '/home/xuranzeng/project/data/2018_08_22/201808221221-320956-27730.mp3',\n",
       " '/home/xuranzeng/project/data/2018_08_22/201808222217-583952-27730.mp3',\n",
       " '/home/xuranzeng/project/data/2018_08_22/201808221151-67648-27730.mp3',\n",
       " '/home/xuranzeng/project/data/2018_08_22/201808221021-809093-27730.mp3',\n",
       " '/home/xuranzeng/project/data/2018_08_22/201808221549-211502-27730.mp3',\n",
       " '/home/xuranzeng/project/data/2018_08_22/201808220453-122692-27730.mp3',\n",
       " '/home/xuranzeng/project/data/2018_08_22/201808220054-488262-27730.mp3',\n",
       " '/home/xuranzeng/project/data/2018_08_22/201808220752-742498-27730.mp3',\n",
       " '/home/xuranzeng/project/data/2018_08_22/201808221121-91798-27730.mp3',\n",
       " '/home/xuranzeng/project/data/2018_08_22/201808220224-291878-27730.mp3',\n",
       " '/home/xuranzeng/project/data/2018_08_22/201808220254-676224-27730.mp3',\n",
       " '/home/xuranzeng/project/data/2018_08_22/201808220553-248242-27730.mp3',\n",
       " '/home/xuranzeng/project/data/2018_08_22/201808220951-675632-27730.mp3',\n",
       " '/home/xuranzeng/project/data/2018_08_22/201808220623-243164-27730.mp3',\n",
       " '/home/xuranzeng/project/data/2018_08_22/201808221719-673773-27730.mp3',\n",
       " '/home/xuranzeng/project/data/2018_08_22/201808222018-998895-27730.mp3',\n",
       " '/home/xuranzeng/project/data/2018_08_22/201808222118-338292-27730.mp3',\n",
       " '/home/xuranzeng/project/data/2018_08_22/201808221350-199777-27730.mp3',\n",
       " '/home/xuranzeng/project/data/2018_08_22/201808220922-498697-27730.mp3',\n",
       " '/home/xuranzeng/project/data/2018_08_22/201808220852-335571-27730.mp3',\n",
       " '/home/xuranzeng/project/data/2018_08_22/201808220822-331230-27730.mp3',\n",
       " '/home/xuranzeng/project/data/2018_08_22/201808220353-943022-27730.mp3',\n",
       " '/home/xuranzeng/project/data/2018_08_22/201808220324-367069-27730.mp3',\n",
       " '/home/xuranzeng/project/data/2018_08_22/201808221250-558106-27730.mp3',\n",
       " '/home/xuranzeng/project/data/2018_08_22/201808221848-894269-27730.mp3',\n",
       " '/home/xuranzeng/project/data/2018_08_22/201808221051-870137-27730.mp3',\n",
       " '/home/xuranzeng/project/data/2018_08_22/201808220025-926422-27730.mp3',\n",
       " '/home/xuranzeng/project/data/2018_08_22/201808221649-891889-27730.mp3',\n",
       " '/home/xuranzeng/project/data/2018_08_22/201808221520-517272-27730.mp3']"
      ]
     },
     "execution_count": 69,
     "metadata": {},
     "output_type": "execute_result"
    }
   ],
   "source": [
    "infiles"
   ]
  },
  {
   "cell_type": "code",
   "execution_count": 42,
   "metadata": {},
   "outputs": [],
   "source": []
  },
  {
   "cell_type": "code",
   "execution_count": null,
   "metadata": {},
   "outputs": [],
   "source": []
  },
  {
   "cell_type": "code",
   "execution_count": null,
   "metadata": {},
   "outputs": [],
   "source": []
  },
  {
   "cell_type": "code",
   "execution_count": null,
   "metadata": {},
   "outputs": [],
   "source": []
  },
  {
   "cell_type": "code",
   "execution_count": null,
   "metadata": {},
   "outputs": [],
   "source": []
  },
  {
   "cell_type": "code",
   "execution_count": null,
   "metadata": {},
   "outputs": [],
   "source": []
  },
  {
   "cell_type": "code",
   "execution_count": null,
   "metadata": {},
   "outputs": [],
   "source": []
  },
  {
   "cell_type": "code",
   "execution_count": null,
   "metadata": {},
   "outputs": [],
   "source": []
  },
  {
   "cell_type": "code",
   "execution_count": null,
   "metadata": {},
   "outputs": [],
   "source": [
    "# module load python/anaconda-2020.02\n",
    "# module load ffmpeg\n",
    "# pip install --user pydub\n",
    "import pydub\n",
    "from pydub.silence import detect_nonsilent\n",
    "from pydub import AudioSegment\n",
    "from multiprocessing import Pool\n",
    "import glob, os, pickle\n",
    "\n",
    "num_processors = 16"
   ]
  },
  {
   "cell_type": "code",
   "execution_count": null,
   "metadata": {},
   "outputs": [],
   "source": []
  },
  {
   "cell_type": "code",
   "execution_count": null,
   "metadata": {},
   "outputs": [],
   "source": [
    "# Right now, feed/date is manual and should be automated\n",
    "feed='Zone 8'\n",
    "date='2018_08_10'\n",
    "# This seems to be the case for all files, but may not be\n",
    "frame_rate=22050\n",
    "# At least 500ms of silence when detecting non-silence\n",
    "min_silence=500\n",
    "# Silence detection threshold (dB)\n",
    "thresh=-24\n",
    "# Buffer between clips of non-silence (ms)\n",
    "silence_buffer=2000\n",
    "base_path='/project2/graziul/LoP/corpus/transcriptions/WorkingData/'"
   ]
  },
  {
   "cell_type": "code",
   "execution_count": null,
   "metadata": {},
   "outputs": [],
   "source": [
    "#def get_files(feed, date, base_path='/project2/graziul/LoP/corpus/transcriptions/WorkingData/'):\n",
    "audio_path=base_path+feed.replace(' ','')+'/'+date+'/'\n",
    "files = glob.glob(audio_path+'2*.mp3')\n",
    "files.sort()\n",
    "#    return files, audio_path"
   ]
  },
  {
   "cell_type": "code",
   "execution_count": null,
   "metadata": {},
   "outputs": [],
   "source": [
    "#def create_clip_dict(files):\n",
    "# Create a dictionary {mp3_file:AudioSegment.from_mp3(mp3_file)}\n",
    "def get_mp3_file(mp3_file):\n",
    "    return {mp3_file.split('/')[-1]:AudioSegment.from_mp3(mp3_file)}\n",
    "p = Pool(processes = num_processors)\n",
    "output = p.map(get_mp3_file,files)\n",
    "p.close()\n",
    "clips_dict = {k:v for i in output for k,v in i.items()}\n",
    "#    return clip_dict"
   ]
  },
  {
   "cell_type": "code",
   "execution_count": null,
   "metadata": {},
   "outputs": [],
   "source": [
    "#def create_nonsilent_slices(clips_dict,min_silence=min_silence, silence_thresh=thresh):\n",
    "# Create a dictionary {mp3_file:[lists of start/stop for nonsilent portions of audio]}\n",
    "def get_nonsilent_slices(file, audio):\n",
    "    return {file:detect_nonsilent(audio,min_silence_len=min_silence,silence_thresh=thresh)}\n",
    "p = Pool(processes = num_processors)\n",
    "output = p.starmap(get_nonsilent_slices,[(clip,clips_dict[clip]) for clip in clips_dict])\n",
    "p.close()\n",
    "nonsilent_slices_dict = {k:v for i in output for k,v in i.items()}\n",
    "#    return nonsilent_slices_dict"
   ]
  },
  {
   "cell_type": "code",
   "execution_count": null,
   "metadata": {},
   "outputs": [],
   "source": [
    "#def create_metadata_dict(clips_dict, nonsilent_slices_dict):\n",
    "metadata_dict={}\n",
    "# Find clips that are 100% silence\n",
    "metadata_dict['files_total_silence'] = [k for k in nonsilent_slices_dict if len(nonsilent_slices_dict[k])==0]\n",
    "# Tag if date has clips with 100% silence\n",
    "metadata_dict['has_silent_files'] = len(metadata_dict['files_total_silence'])>0\n",
    "# Find duration of clips\n",
    "metadata_dict['file_length_seconds'] = {clip:clips_dict[clip].duration_seconds for clip in clips_dict if clip not in metadata_dict['files_total_silence']}\n",
    "# Find duration of entire recording\n",
    "metadata_dict['day_length_minutes'] = sum(metadata_dict['file_length_seconds'].values())/60 \n",
    "# Day has 95%+ coverage?\n",
    "metadata_dict['complete_data'] = metadata_dict['day_length_minutes']/1440>=0.95\n",
    "# Extract timestamp metadata and add timing of non-silence\n",
    "metadata_dict['recording_start'] = {}\n",
    "metadata_dict['nonsilent_slices'] = {}\n",
    "for file in metadata_dict['file_length_seconds']:\n",
    "    timestamp = file.split('.')[0]\n",
    "    metadata_dict['recording_start'][file] = {'year':int(timestamp[0:4]),\n",
    "                                              'month':int(timestamp[4:6]),\n",
    "                                              'day':int(timestamp[6:8]),\n",
    "                                              'time':int(timestamp[8:12])}\n",
    "    # Note: This is important because we've removed completely silent files\n",
    "    metadata_dict['nonsilent_slices'][file] = nonsilent_slices_dict[file]\n",
    "# Include threshold used for pydub silence detection\n",
    "metadata_dict['nonsilent_slices']['thresh'] = thresh\n",
    "#    return metadata_dict"
   ]
  },
  {
   "cell_type": "code",
   "execution_count": null,
   "metadata": {},
   "outputs": [],
   "source": [
    "#def remove_silence(metadata_dict, files, audio_path, silence_buffer=silence_buffer, frame_rate=frame_rate):\n",
    "## Use pydub nonsilent_slices data\n",
    "metadata_dict['nonsilent_seconds'] = {}\n",
    "# 1. Remove silence and save files as .wav\n",
    "files = [i for i in metadata_dict['nonsilent_slices'].keys() if i not in ['thresh']]\n",
    "for file in files:\n",
    "    audio_nosilence = AudioSegment.empty()\n",
    "    audio = clips_dict[file]\n",
    "    nonsilent_slices = metadata_dict['nonsilent_slices'][file]\n",
    "    nonsilent_seconds = 0\n",
    "    for nonsilent_slice in nonsilent_slices:\n",
    "        # Extract start/end of nonsilent slice\n",
    "        start, end = nonsilent_slice\n",
    "        # Get duratoin of non-silence before adding buffer of silence between slices\n",
    "        nonsilent_seconds += audio[start:end].duration_seconds\n",
    "        # Build up AudioSegment using indices from nonsilent_slices, adding a little buffer\n",
    "        audio_nosilence += AudioSegment.silent(duration=silence_buffer, frame_rate=frame_rate)+audio[start:end] \n",
    "    audio_16khz = audio_nosilence.set_frame_rate(16000)\n",
    "    audio_16khz.export(audio_path+file.replace('mp3','wav'), format='wav')\n",
    "# 2. Save seconds of nonsilent audio for each file\n",
    "    metadata_dict['nonsilent_seconds'][file] = nonsilent_seconds\n",
    "# 3. Note total minutes of nonsilent audio\n",
    "metadata_dict['nonsilent_minutes'] = sum(metadata_dict['nonsilent_seconds'].values())/60\n",
    "#    return metadata_dict"
   ]
  },
  {
   "cell_type": "code",
   "execution_count": null,
   "metadata": {},
   "outputs": [],
   "source": [
    "'''\n",
    "# Get filenames and audio_path\n",
    "files, audio_path = get_files(feed, date)\n",
    "# Get audio for each filename\n",
    "clips_dict = create_clip_dict(files)\n",
    "# Get indices for non-silent audio\n",
    "nonsilent_slices_dict = create_nonsilent_slices(clips_dict)\n",
    "# Extract metadata\n",
    "metadata_dict = create_metadata_dict(clips_dict, nonsilent_slices_dict)\n",
    "# Remove silence and save, updating metadata_dict in the process\n",
    "metadata_dict = remove_silence(metadata_dict, files, audio_path)\n",
    "'''\n",
    "# Save the metadata\n",
    "pickle.dump(metadata_dict,open(audio_path+date+'metadata.pkl','wb'))"
   ]
  },
  {
   "cell_type": "code",
   "execution_count": null,
   "metadata": {},
   "outputs": [],
   "source": [
    "files"
   ]
  },
  {
   "cell_type": "code",
   "execution_count": null,
   "metadata": {},
   "outputs": [],
   "source": []
  },
  {
   "cell_type": "code",
   "execution_count": null,
   "metadata": {},
   "outputs": [],
   "source": []
  }
 ],
 "metadata": {
  "kernelspec": {
   "display_name": "Python 3",
   "language": "python",
   "name": "python3"
  },
  "language_info": {
   "codemirror_mode": {
    "name": "ipython",
    "version": 3
   },
   "file_extension": ".py",
   "mimetype": "text/x-python",
   "name": "python",
   "nbconvert_exporter": "python",
   "pygments_lexer": "ipython3",
   "version": "3.8.5"
  }
 },
 "nbformat": 4,
 "nbformat_minor": 4
}
