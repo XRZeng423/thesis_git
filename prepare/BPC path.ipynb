{
 "cells": [
  {
   "cell_type": "code",
   "execution_count": 1,
   "metadata": {},
   "outputs": [],
   "source": [
    "import numpy as np\n",
    "import pandas as pd\n",
    "import csv\n",
    "import pandasql as ps\n",
    "import sqlite3\n",
    "import os\n",
    "\n",
    "import datetime\n",
    "from datetime import datetime\n",
    "\n",
    "import warnings\n",
    "warnings.filterwarnings('ignore')"
   ]
  },
  {
   "cell_type": "code",
   "execution_count": 50,
   "metadata": {},
   "outputs": [],
   "source": [
    "base_path='/project/graziul/data/'\n",
    "feed='Zone 13'\n",
    "month='2018_08'\n",
    "#date='2018_08_12'\n",
    "#filepath=base_path+feed.replace(' ','')+'/'+date\n",
    "filepath=base_path+feed.replace(' ','')+'/'\n",
    "infiles = os.listdir(filepath)\n",
    "\n",
    "date = list((item for item in infiles if (item.startswith(month) and len(item)==10)))\n",
    "filepath2 = [filepath + i for i in date]"
   ]
  },
  {
   "cell_type": "code",
   "execution_count": 51,
   "metadata": {},
   "outputs": [
    {
     "data": {
      "text/plain": [
       "['/project/graziul/data/Zone13/2018_08_08',\n",
       " '/project/graziul/data/Zone13/2018_08_17',\n",
       " '/project/graziul/data/Zone13/2018_08_20',\n",
       " '/project/graziul/data/Zone13/2018_08_27',\n",
       " '/project/graziul/data/Zone13/2018_08_13',\n",
       " '/project/graziul/data/Zone13/2018_08_09',\n",
       " '/project/graziul/data/Zone13/2018_08_30',\n",
       " '/project/graziul/data/Zone13/2018_08_25',\n",
       " '/project/graziul/data/Zone13/2018_08_26',\n",
       " '/project/graziul/data/Zone13/2018_08_16',\n",
       " '/project/graziul/data/Zone13/2018_08_19',\n",
       " '/project/graziul/data/Zone13/2018_08_10',\n",
       " '/project/graziul/data/Zone13/2018_08_15',\n",
       " '/project/graziul/data/Zone13/2018_08_28',\n",
       " '/project/graziul/data/Zone13/2018_08_18',\n",
       " '/project/graziul/data/Zone13/2018_08_22',\n",
       " '/project/graziul/data/Zone13/2018_08_04',\n",
       " '/project/graziul/data/Zone13/2018_08_21',\n",
       " '/project/graziul/data/Zone13/2018_08_07',\n",
       " '/project/graziul/data/Zone13/2018_08_31',\n",
       " '/project/graziul/data/Zone13/2018_08_03',\n",
       " '/project/graziul/data/Zone13/2018_08_06',\n",
       " '/project/graziul/data/Zone13/2018_08_23',\n",
       " '/project/graziul/data/Zone13/2018_08_12',\n",
       " '/project/graziul/data/Zone13/2018_08_05',\n",
       " '/project/graziul/data/Zone13/2018_08_11',\n",
       " '/project/graziul/data/Zone13/2018_08_24',\n",
       " '/project/graziul/data/Zone13/2018_08_14']"
      ]
     },
     "execution_count": 51,
     "metadata": {},
     "output_type": "execute_result"
    }
   ],
   "source": [
    "filepath2"
   ]
  },
  {
   "cell_type": "code",
   "execution_count": 52,
   "metadata": {},
   "outputs": [],
   "source": [
    "import os\n",
    "infile_path = []\n",
    "for path in filepath2:\n",
    "    infiles = os.listdir(path)\n",
    "    for file in infiles:\n",
    "        if (file.endswith(\".mp3\")) and file.startswith(\"2018\") :       \n",
    "            infile_path.append(os.path.join(path, file))       \n",
    "#infile_path"
   ]
  },
  {
   "cell_type": "code",
   "execution_count": 53,
   "metadata": {},
   "outputs": [],
   "source": [
    "path = pd.DataFrame(infile_path)"
   ]
  },
  {
   "cell_type": "code",
   "execution_count": 54,
   "metadata": {},
   "outputs": [
    {
     "data": {
      "text/html": [
       "<div>\n",
       "<style scoped>\n",
       "    .dataframe tbody tr th:only-of-type {\n",
       "        vertical-align: middle;\n",
       "    }\n",
       "\n",
       "    .dataframe tbody tr th {\n",
       "        vertical-align: top;\n",
       "    }\n",
       "\n",
       "    .dataframe thead th {\n",
       "        text-align: right;\n",
       "    }\n",
       "</style>\n",
       "<table border=\"1\" class=\"dataframe\">\n",
       "  <thead>\n",
       "    <tr style=\"text-align: right;\">\n",
       "      <th></th>\n",
       "      <th>0</th>\n",
       "    </tr>\n",
       "  </thead>\n",
       "  <tbody>\n",
       "    <tr>\n",
       "      <th>0</th>\n",
       "      <td>/project/graziul/data/Zone13/2018_08_08/201808...</td>\n",
       "    </tr>\n",
       "    <tr>\n",
       "      <th>1</th>\n",
       "      <td>/project/graziul/data/Zone13/2018_08_08/201808...</td>\n",
       "    </tr>\n",
       "    <tr>\n",
       "      <th>2</th>\n",
       "      <td>/project/graziul/data/Zone13/2018_08_08/201808...</td>\n",
       "    </tr>\n",
       "    <tr>\n",
       "      <th>3</th>\n",
       "      <td>/project/graziul/data/Zone13/2018_08_08/201808...</td>\n",
       "    </tr>\n",
       "    <tr>\n",
       "      <th>4</th>\n",
       "      <td>/project/graziul/data/Zone13/2018_08_08/201808...</td>\n",
       "    </tr>\n",
       "    <tr>\n",
       "      <th>...</th>\n",
       "      <td>...</td>\n",
       "    </tr>\n",
       "    <tr>\n",
       "      <th>1293</th>\n",
       "      <td>/project/graziul/data/Zone13/2018_08_14/201808...</td>\n",
       "    </tr>\n",
       "    <tr>\n",
       "      <th>1294</th>\n",
       "      <td>/project/graziul/data/Zone13/2018_08_14/201808...</td>\n",
       "    </tr>\n",
       "    <tr>\n",
       "      <th>1295</th>\n",
       "      <td>/project/graziul/data/Zone13/2018_08_14/201808...</td>\n",
       "    </tr>\n",
       "    <tr>\n",
       "      <th>1296</th>\n",
       "      <td>/project/graziul/data/Zone13/2018_08_14/201808...</td>\n",
       "    </tr>\n",
       "    <tr>\n",
       "      <th>1297</th>\n",
       "      <td>/project/graziul/data/Zone13/2018_08_14/201808...</td>\n",
       "    </tr>\n",
       "  </tbody>\n",
       "</table>\n",
       "<p>1298 rows × 1 columns</p>\n",
       "</div>"
      ],
      "text/plain": [
       "                                                      0\n",
       "0     /project/graziul/data/Zone13/2018_08_08/201808...\n",
       "1     /project/graziul/data/Zone13/2018_08_08/201808...\n",
       "2     /project/graziul/data/Zone13/2018_08_08/201808...\n",
       "3     /project/graziul/data/Zone13/2018_08_08/201808...\n",
       "4     /project/graziul/data/Zone13/2018_08_08/201808...\n",
       "...                                                 ...\n",
       "1293  /project/graziul/data/Zone13/2018_08_14/201808...\n",
       "1294  /project/graziul/data/Zone13/2018_08_14/201808...\n",
       "1295  /project/graziul/data/Zone13/2018_08_14/201808...\n",
       "1296  /project/graziul/data/Zone13/2018_08_14/201808...\n",
       "1297  /project/graziul/data/Zone13/2018_08_14/201808...\n",
       "\n",
       "[1298 rows x 1 columns]"
      ]
     },
     "execution_count": 54,
     "metadata": {},
     "output_type": "execute_result"
    }
   ],
   "source": [
    "path"
   ]
  },
  {
   "cell_type": "code",
   "execution_count": 55,
   "metadata": {},
   "outputs": [],
   "source": [
    "path.to_csv('/project/graziul/ra/team_ser/path/BPC_zone13_2018_08.csv')"
   ]
  },
  {
   "cell_type": "code",
   "execution_count": null,
   "metadata": {},
   "outputs": [],
   "source": []
  },
  {
   "cell_type": "code",
   "execution_count": null,
   "metadata": {},
   "outputs": [],
   "source": []
  },
  {
   "cell_type": "code",
   "execution_count": null,
   "metadata": {},
   "outputs": [],
   "source": []
  },
  {
   "cell_type": "code",
   "execution_count": 3,
   "metadata": {},
   "outputs": [
    {
     "data": {
      "text/plain": [
       "['/project/graziul/data/Zone1/2018_08_12/201808122058-33020-27730.mp3',\n",
       " '/project/graziul/data/Zone1/2018_08_12/201808120434-891122-27730.mp3',\n",
       " '/project/graziul/data/Zone1/2018_08_12/201808122328-661856-27730.mp3',\n",
       " '/project/graziul/data/Zone1/2018_08_12/201808122029-650748-27730.mp3',\n",
       " '/project/graziul/data/Zone1/2018_08_12/201808121729-506899-27730.mp3',\n",
       " '/project/graziul/data/Zone1/2018_08_12/201808120832-732332-27730.mp3',\n",
       " '/project/graziul/data/Zone1/2018_08_12/201808121102-659166-27730.mp3',\n",
       " '/project/graziul/data/Zone1/2018_08_12/201808120703-852547-27730.mp3',\n",
       " '/project/graziul/data/Zone1/2018_08_12/201808120404-252508-27730.mp3',\n",
       " '/project/graziul/data/Zone1/2018_08_12/201808120932-28710-27730.mp3',\n",
       " '/project/graziul/data/Zone1/2018_08_12/201808121032-648578-27730.mp3',\n",
       " '/project/graziul/data/Zone1/2018_08_12/201808122128-198809-27730.mp3',\n",
       " '/project/graziul/data/Zone1/2018_08_12/201808121500-665201-27730.mp3',\n",
       " '/project/graziul/data/Zone1/2018_08_12/201808121630-876020-27730.mp3',\n",
       " '/project/graziul/data/Zone1/2018_08_12/201808120304-366043-27730.mp3',\n",
       " '/project/graziul/data/Zone1/2018_08_12/201808120733-369191-27730.mp3',\n",
       " '/project/graziul/data/Zone1/2018_08_12/201808120135-851247-27730.mp3',\n",
       " '/project/graziul/data/Zone1/2018_08_12/201808120105-889671-27730.mp3',\n",
       " '/project/graziul/data/Zone1/2018_08_12/201808121829-305744-27730.mp3',\n",
       " '/project/graziul/data/Zone1/2018_08_12/201808120035-587214-27730.mp3',\n",
       " '/project/graziul/data/Zone1/2018_08_12/201808121929-395820-27730.mp3',\n",
       " '/project/graziul/data/Zone1/2018_08_12/201808120603-647711-27730.mp3',\n",
       " '/project/graziul/data/Zone1/2018_08_12/201808121002-381354-27730.mp3',\n",
       " '/project/graziul/data/Zone1/2018_08_12/201808121201-299397-27730.mp3',\n",
       " '/project/graziul/data/Zone1/2018_08_12/201808120205-953882-27730.mp3',\n",
       " '/project/graziul/data/Zone1/2018_08_12/201808112335-560782-27730.mp3',\n",
       " '/project/graziul/data/Zone1/2018_08_12/201808120533-329786-27730.mp3',\n",
       " '/project/graziul/data/Zone1/2018_08_12/201808121430-885595-27730.mp3',\n",
       " '/project/graziul/data/Zone1/2018_08_12/201808121131-178650-27730.mp3',\n",
       " '/project/graziul/data/Zone1/2018_08_12/201808121530-403955-27730.mp3',\n",
       " '/project/graziul/data/Zone1/2018_08_12/201808120504-981165-27730.mp3',\n",
       " '/project/graziul/data/Zone1/2018_08_12/201808121759-818443-27730.mp3',\n",
       " '/project/graziul/data/Zone1/2018_08_12/201808121231-470585-27730.mp3',\n",
       " '/project/graziul/data/Zone1/2018_08_12/201808121600-852986-27730.mp3',\n",
       " '/project/graziul/data/Zone1/2018_08_12/201808121401-396777-27730.mp3',\n",
       " '/project/graziul/data/Zone1/2018_08_12/201808121331-741795-27730.mp3',\n",
       " '/project/graziul/data/Zone1/2018_08_12/201808121959-996485-27730.mp3',\n",
       " '/project/graziul/data/Zone1/2018_08_12/201808120803-891554-27730.mp3',\n",
       " '/project/graziul/data/Zone1/2018_08_12/201808122258-422515-27730.mp3',\n",
       " '/project/graziul/data/Zone1/2018_08_12/201808122158-773247-27730.mp3',\n",
       " '/project/graziul/data/Zone1/2018_08_12/201808122228-562542-27730.mp3',\n",
       " '/project/graziul/data/Zone1/2018_08_12/201808121301-922847-27730.mp3',\n",
       " '/project/graziul/data/Zone1/2018_08_12/201808121859-216864-27730.mp3',\n",
       " '/project/graziul/data/Zone1/2018_08_12/201808120633-901759-27730.mp3',\n",
       " '/project/graziul/data/Zone1/2018_08_12/201808120334-879379-27730.mp3',\n",
       " '/project/graziul/data/Zone1/2018_08_12/201808120902-41159-27730.mp3',\n",
       " '/project/graziul/data/Zone1/2018_08_12/201808120234-654163-27730.mp3',\n",
       " '/project/graziul/data/Zone1/2018_08_12/201808121700-289658-27730.mp3',\n",
       " '/project/graziul/data/Zone1/2018_08_12/201808120005-475816-27730.mp3']"
      ]
     },
     "execution_count": 3,
     "metadata": {},
     "output_type": "execute_result"
    }
   ],
   "source": [
    "import os\n",
    "infile_path = []\n",
    "for file in infiles:\n",
    "    if (file.endswith(\".mp3\")) and file.startswith(\"2018\") :       \n",
    "        infile_path.append(os.path.join(filepath, file))       \n",
    "infile_path"
   ]
  },
  {
   "cell_type": "code",
   "execution_count": null,
   "metadata": {},
   "outputs": [],
   "source": []
  }
 ],
 "metadata": {
  "kernelspec": {
   "display_name": "Python 3 (ipykernel)",
   "language": "python",
   "name": "python3"
  },
  "language_info": {
   "codemirror_mode": {
    "name": "ipython",
    "version": 3
   },
   "file_extension": ".py",
   "mimetype": "text/x-python",
   "name": "python",
   "nbconvert_exporter": "python",
   "pygments_lexer": "ipython3",
   "version": "3.8.5"
  }
 },
 "nbformat": 4,
 "nbformat_minor": 4
}
