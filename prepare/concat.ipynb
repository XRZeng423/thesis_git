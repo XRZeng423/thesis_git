{
 "cells": [
  {
   "cell_type": "code",
   "execution_count": 2,
   "metadata": {},
   "outputs": [
    {
     "name": "stderr",
     "output_type": "stream",
     "text": [
      "\n",
      "Bad key text.latex.preview in file /software/python-anaconda-2020.11-el8-x86_64/lib/python3.8/site-packages/matplotlib/mpl-data/stylelib/_classic_test.mplstyle, line 123 ('text.latex.preview : False')\n",
      "You probably need to get an updated matplotlibrc file from\n",
      "https://github.com/matplotlib/matplotlib/blob/v3.5.0/matplotlibrc.template\n",
      "or from the matplotlib source distribution\n",
      "\n",
      "Bad key mathtext.fallback_to_cm in file /software/python-anaconda-2020.11-el8-x86_64/lib/python3.8/site-packages/matplotlib/mpl-data/stylelib/_classic_test.mplstyle, line 155 ('mathtext.fallback_to_cm : True  # When True, use symbols from the Computer Modern')\n",
      "You probably need to get an updated matplotlibrc file from\n",
      "https://github.com/matplotlib/matplotlib/blob/v3.5.0/matplotlibrc.template\n",
      "or from the matplotlib source distribution\n",
      "\n",
      "Bad key savefig.jpeg_quality in file /software/python-anaconda-2020.11-el8-x86_64/lib/python3.8/site-packages/matplotlib/mpl-data/stylelib/_classic_test.mplstyle, line 418 ('savefig.jpeg_quality: 95       # when a jpeg is saved, the default quality parameter.')\n",
      "You probably need to get an updated matplotlibrc file from\n",
      "https://github.com/matplotlib/matplotlib/blob/v3.5.0/matplotlibrc.template\n",
      "or from the matplotlib source distribution\n",
      "\n",
      "Bad key keymap.all_axes in file /software/python-anaconda-2020.11-el8-x86_64/lib/python3.8/site-packages/matplotlib/mpl-data/stylelib/_classic_test.mplstyle, line 466 ('keymap.all_axes : a                 # enable all axes')\n",
      "You probably need to get an updated matplotlibrc file from\n",
      "https://github.com/matplotlib/matplotlib/blob/v3.5.0/matplotlibrc.template\n",
      "or from the matplotlib source distribution\n",
      "\n",
      "Bad key animation.avconv_path in file /software/python-anaconda-2020.11-el8-x86_64/lib/python3.8/site-packages/matplotlib/mpl-data/stylelib/_classic_test.mplstyle, line 477 ('animation.avconv_path: avconv     # Path to avconv binary. Without full path')\n",
      "You probably need to get an updated matplotlibrc file from\n",
      "https://github.com/matplotlib/matplotlib/blob/v3.5.0/matplotlibrc.template\n",
      "or from the matplotlib source distribution\n",
      "\n",
      "Bad key animation.avconv_args in file /software/python-anaconda-2020.11-el8-x86_64/lib/python3.8/site-packages/matplotlib/mpl-data/stylelib/_classic_test.mplstyle, line 479 ('animation.avconv_args:            # Additional arguments to pass to avconv')\n",
      "You probably need to get an updated matplotlibrc file from\n",
      "https://github.com/matplotlib/matplotlib/blob/v3.5.0/matplotlibrc.template\n",
      "or from the matplotlib source distribution\n"
     ]
    }
   ],
   "source": [
    "import os\n",
    "from matplotlib import pyplot as plt\n",
    "import IPython.display as ipd\n",
    "import pandas as pd\n",
    "from pydub import AudioSegment\n",
    "import ffprobe\n",
    "import ffmpeg\n",
    "import numpy as np\n",
    "import wave\n",
    "import os\n",
    "from pydub import AudioSegment\n",
    "import numpy as np\n",
    "from teager_py import Teager\n",
    "import pydub\n",
    "\n",
    "%matplotlib inline"
   ]
  },
  {
   "cell_type": "code",
   "execution_count": 4,
   "metadata": {},
   "outputs": [],
   "source": [
    "base_path='/project/graziul/data/'\n",
    "feed='Zone 1'\n",
    "date='2018_08_12'\n",
    "filepath=base_path+feed.replace(' ','')+'/'+date\n",
    "infiles = os.listdir(filepath)"
   ]
  },
  {
   "cell_type": "code",
   "execution_count": 5,
   "metadata": {
    "scrolled": true
   },
   "outputs": [
    {
     "data": {
      "text/plain": [
       "['/project/graziul/data/Zone1/2018_08_12/201808122058-33020-27730.mp3',\n",
       " '/project/graziul/data/Zone1/2018_08_12/201808120434-891122-27730.mp3',\n",
       " '/project/graziul/data/Zone1/2018_08_12/201808122328-661856-27730.mp3',\n",
       " '/project/graziul/data/Zone1/2018_08_12/201808122029-650748-27730.mp3',\n",
       " '/project/graziul/data/Zone1/2018_08_12/201808121729-506899-27730.mp3',\n",
       " '/project/graziul/data/Zone1/2018_08_12/201808120832-732332-27730.mp3',\n",
       " '/project/graziul/data/Zone1/2018_08_12/201808121102-659166-27730.mp3',\n",
       " '/project/graziul/data/Zone1/2018_08_12/201808120703-852547-27730.mp3',\n",
       " '/project/graziul/data/Zone1/2018_08_12/201808120404-252508-27730.mp3',\n",
       " '/project/graziul/data/Zone1/2018_08_12/201808120932-28710-27730.mp3',\n",
       " '/project/graziul/data/Zone1/2018_08_12/201808121032-648578-27730.mp3',\n",
       " '/project/graziul/data/Zone1/2018_08_12/201808122128-198809-27730.mp3',\n",
       " '/project/graziul/data/Zone1/2018_08_12/201808121500-665201-27730.mp3',\n",
       " '/project/graziul/data/Zone1/2018_08_12/201808121630-876020-27730.mp3',\n",
       " '/project/graziul/data/Zone1/2018_08_12/201808120304-366043-27730.mp3',\n",
       " '/project/graziul/data/Zone1/2018_08_12/201808120733-369191-27730.mp3',\n",
       " '/project/graziul/data/Zone1/2018_08_12/201808120135-851247-27730.mp3',\n",
       " '/project/graziul/data/Zone1/2018_08_12/201808120105-889671-27730.mp3',\n",
       " '/project/graziul/data/Zone1/2018_08_12/201808121829-305744-27730.mp3',\n",
       " '/project/graziul/data/Zone1/2018_08_12/201808120035-587214-27730.mp3',\n",
       " '/project/graziul/data/Zone1/2018_08_12/201808121929-395820-27730.mp3',\n",
       " '/project/graziul/data/Zone1/2018_08_12/201808120603-647711-27730.mp3',\n",
       " '/project/graziul/data/Zone1/2018_08_12/201808121002-381354-27730.mp3',\n",
       " '/project/graziul/data/Zone1/2018_08_12/201808121201-299397-27730.mp3',\n",
       " '/project/graziul/data/Zone1/2018_08_12/201808120205-953882-27730.mp3',\n",
       " '/project/graziul/data/Zone1/2018_08_12/201808112335-560782-27730.mp3',\n",
       " '/project/graziul/data/Zone1/2018_08_12/201808120533-329786-27730.mp3',\n",
       " '/project/graziul/data/Zone1/2018_08_12/201808121430-885595-27730.mp3',\n",
       " '/project/graziul/data/Zone1/2018_08_12/201808121131-178650-27730.mp3',\n",
       " '/project/graziul/data/Zone1/2018_08_12/201808121530-403955-27730.mp3',\n",
       " '/project/graziul/data/Zone1/2018_08_12/201808120504-981165-27730.mp3',\n",
       " '/project/graziul/data/Zone1/2018_08_12/201808121759-818443-27730.mp3',\n",
       " '/project/graziul/data/Zone1/2018_08_12/201808121231-470585-27730.mp3',\n",
       " '/project/graziul/data/Zone1/2018_08_12/201808121600-852986-27730.mp3',\n",
       " '/project/graziul/data/Zone1/2018_08_12/201808121401-396777-27730.mp3',\n",
       " '/project/graziul/data/Zone1/2018_08_12/201808121331-741795-27730.mp3',\n",
       " '/project/graziul/data/Zone1/2018_08_12/201808121959-996485-27730.mp3',\n",
       " '/project/graziul/data/Zone1/2018_08_12/201808120803-891554-27730.mp3',\n",
       " '/project/graziul/data/Zone1/2018_08_12/201808122258-422515-27730.mp3',\n",
       " '/project/graziul/data/Zone1/2018_08_12/201808122158-773247-27730.mp3',\n",
       " '/project/graziul/data/Zone1/2018_08_12/201808122228-562542-27730.mp3',\n",
       " '/project/graziul/data/Zone1/2018_08_12/201808121301-922847-27730.mp3',\n",
       " '/project/graziul/data/Zone1/2018_08_12/201808121859-216864-27730.mp3',\n",
       " '/project/graziul/data/Zone1/2018_08_12/201808120633-901759-27730.mp3',\n",
       " '/project/graziul/data/Zone1/2018_08_12/201808120334-879379-27730.mp3',\n",
       " '/project/graziul/data/Zone1/2018_08_12/201808120902-41159-27730.mp3',\n",
       " '/project/graziul/data/Zone1/2018_08_12/201808120234-654163-27730.mp3',\n",
       " '/project/graziul/data/Zone1/2018_08_12/201808121700-289658-27730.mp3',\n",
       " '/project/graziul/data/Zone1/2018_08_12/201808120005-475816-27730.mp3']"
      ]
     },
     "execution_count": 5,
     "metadata": {},
     "output_type": "execute_result"
    }
   ],
   "source": [
    "import os\n",
    "infile_path = []\n",
    "for file in infiles:\n",
    "    if (file.endswith(\".mp3\")) and file.startswith(\"2018\") :       \n",
    "        infile_path.append(os.path.join(filepath, file))       \n",
    "infile_path"
   ]
  },
  {
   "cell_type": "code",
   "execution_count": null,
   "metadata": {},
   "outputs": [],
   "source": []
  },
  {
   "cell_type": "code",
   "execution_count": 17,
   "metadata": {
    "scrolled": true
   },
   "outputs": [
    {
     "data": {
      "text/plain": [
       "49"
      ]
     },
     "execution_count": 17,
     "metadata": {},
     "output_type": "execute_result"
    }
   ],
   "source": [
    "infile_path\n",
    "len(infile_path)"
   ]
  },
  {
   "cell_type": "code",
   "execution_count": 60,
   "metadata": {},
   "outputs": [],
   "source": [
    "# file0=infile_path[0]\n",
    "# file2=infile_path[2]\n",
    "# sound1 = AudioSegment.from_mp3(file1)\n",
    "# sound2 = AudioSegment.from_mp3(file2)\n",
    "# combined_sounds = sound1 + sound2\n",
    "# combined_sounds.export(\"/project/graziul/ra/team_ser/data/test.wav\", format=\"wav\")"
   ]
  },
  {
   "cell_type": "code",
   "execution_count": 66,
   "metadata": {},
   "outputs": [
    {
     "data": {
      "text/plain": [
       "<_io.BufferedRandom name='/project/graziul/ra/team_ser/data/zone1-20180812.wav'>"
      ]
     },
     "execution_count": 66,
     "metadata": {},
     "output_type": "execute_result"
    }
   ],
   "source": [
    "infiles = infile_path\n",
    "outfile = \"/project/graziul/ra/team_ser/data/zone1-20180812.wav\"\n",
    "\n",
    "sound= AudioSegment.from_mp3(infiles[0])\n",
    "for i in range(1,(len(infile_path)-1)):\n",
    "    sound = sound + AudioSegment.from_mp3(infiles[i])\n",
    "\n",
    "sound.export(outfile, format=\"wav\")"
   ]
  },
  {
   "cell_type": "code",
   "execution_count": null,
   "metadata": {},
   "outputs": [],
   "source": [
    "sound= AudioSegment.from_wav(outfile)\n",
    "sound"
   ]
  },
  {
   "cell_type": "code",
   "execution_count": 67,
   "metadata": {},
   "outputs": [
    {
     "data": {
      "image/png": "[encoded data removed]",
      "text/plain": [
       "<Figure size 432x288 with 1 Axes>"
      ]
     },
     "metadata": {
      "needs_background": "light"
     },
     "output_type": "display_data"
    }
   ],
   "source": [
    "from scipy.io.wavfile import read\n",
    "import matplotlib.pyplot as plt\n",
    "\n",
    "# read audio samples\n",
    "input_data = read(outfile)\n",
    "audio = input_data[1]\n",
    "# plot the samples\n",
    "plt.plot(audio)\n",
    "# label the axes\n",
    "plt.ylabel(\"Amplitude\")\n",
    "plt.xlabel(\"Time\")\n",
    "# set the title  \n",
    "plt.title(\"Sample Wav\")\n",
    "# display the plot\n",
    "plt.show()"
   ]
  },
  {
   "cell_type": "code",
   "execution_count": 16,
   "metadata": {},
   "outputs": [],
   "source": [
    "sound = pydub.AudioSegment.from_mp3(filepath)\n",
    "\n",
    "# get raw audio data as a bytestring\n",
    "raw_data = sound.raw_data\n",
    "# get the frame rate\n",
    "sample_rate = sound.frame_rate\n",
    "# get amount of bytes contained in one sample\n",
    "sample_size = sound.sample_width\n",
    "# get channels\n",
    "channels = sound.channels"
   ]
  },
  {
   "cell_type": "code",
   "execution_count": 17,
   "metadata": {},
   "outputs": [
    {
     "data": {
      "text/plain": [
       "4.5351473922902495e-05"
      ]
     },
     "execution_count": 17,
     "metadata": {},
     "output_type": "execute_result"
    }
   ],
   "source": [
    "duration = channels/float(sample_rate)\n",
    "duration"
   ]
  },
  {
   "cell_type": "code",
   "execution_count": null,
   "metadata": {},
   "outputs": [],
   "source": []
  },
  {
   "cell_type": "code",
   "execution_count": null,
   "metadata": {},
   "outputs": [],
   "source": [
    "import os\n",
    "import scipy.io\n",
    "import scipy.io.wavfile\n",
    "import numpy as np\n",
    "import matplotlib.pyplot as plt\n",
    "\n",
    "\n",
    "sampleRate, audioBuffer = scipy.io.wavfile.read(outfile)\n",
    "\n",
    "duration = len(audioBuffer)/sampleRate\n",
    "\n",
    "time = np.arange(0,duration,1/sampleRate) #time vector\n",
    "\n",
    "plt.plot(time,audioBuffer)\n",
    "plt.xlabel('Time [s]')\n",
    "plt.ylabel('Amplitude')\n",
    "plt.title(myAudioFilename)\n",
    "plt.show()"
   ]
  }
 ],
 "metadata": {
  "kernelspec": {
   "display_name": "Python 3 (ipykernel)",
   "language": "python",
   "name": "python3"
  },
  "language_info": {
   "codemirror_mode": {
    "name": "ipython",
    "version": 3
   },
   "file_extension": ".py",
   "mimetype": "text/x-python",
   "name": "python",
   "nbconvert_exporter": "python",
   "pygments_lexer": "ipython3",
   "version": "3.8.5"
  }
 },
 "nbformat": 4,
 "nbformat_minor": 4
}
