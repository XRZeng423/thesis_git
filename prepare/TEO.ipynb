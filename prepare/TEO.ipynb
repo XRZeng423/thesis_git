{
 "cells": [
  {
   "cell_type": "code",
   "execution_count": 1,
   "metadata": {},
   "outputs": [],
   "source": [
    "from teo_cb_auto_env import TeagorExtractor"
   ]
  },
  {
   "cell_type": "code",
   "execution_count": 17,
   "metadata": {},
   "outputs": [],
   "source": [
    "import pydub\n",
    "import librosa\n",
    "from scipy import signal\n",
    "from mutagen.mp3 import MP3\n",
    "import numpy as np\n",
    "from numpy import sign, trapz\n",
    "from teager_py import Teager\n",
    "import statsmodels.api as sm\n",
    "import wave\n",
    "import statistics"
   ]
  },
  {
   "cell_type": "code",
   "execution_count": 3,
   "metadata": {},
   "outputs": [],
   "source": [
    "t = TeagorExtractor()"
   ]
  },
  {
   "cell_type": "code",
   "execution_count": 4,
   "metadata": {},
   "outputs": [
    {
     "name": "stdout",
     "output_type": "stream",
     "text": [
      "Computing TEO Features ...\n",
      "0 12\n"
     ]
    },
    {
     "name": "stderr",
     "output_type": "stream",
     "text": [
      "/software/python-anaconda-2020.11-el8-x86_64/lib/python3.8/site-packages/statsmodels/tsa/stattools.py:655: FutureWarning: The default number of lags is changing from 40 tomin(int(10 * np.log10(nobs)), nobs - 1) after 0.12is released. Set the number of lags to an integer to  silence this warning.\n",
      "  warnings.warn(\n",
      "/software/python-anaconda-2020.11-el8-x86_64/lib/python3.8/site-packages/statsmodels/tsa/stattools.py:665: FutureWarning: fft=True will become the default after the release of the 0.12 release of statsmodels. To suppress this warning, explicitly set fft=False.\n",
      "  warnings.warn(\n"
     ]
    }
   ],
   "source": [
    "teo_cb_auto_env = t.process(\"/home/xuranzeng/SER/ProjectiveNum1.wav\",1)"
   ]
  },
  {
   "cell_type": "code",
   "execution_count": 9,
   "metadata": {
    "scrolled": true
   },
   "outputs": [
    {
     "data": {
      "text/plain": [
       "array([[29.24164195, 24.661858  , 28.11634001, 31.94544073, 34.32587016,\n",
       "        32.63190619, 31.36652797, 30.14810959, 28.58844183, 23.08968858,\n",
       "        23.94757661, 24.7139167 , 18.5952083 , 10.95839349,  9.19453937,\n",
       "         4.92235107],\n",
       "       [29.84693068, 31.51357274, 29.02396746, 27.35873994, 28.27711281,\n",
       "        29.69616726, 28.08869499, 29.46012537, 24.49002716, 26.88231093,\n",
       "        23.38892984, 21.56799928, 13.90299522, 11.3063791 ,  9.69257617,\n",
       "         5.7628735 ],\n",
       "       [28.46802524, 30.49552784, 26.7116798 , 28.44439213, 29.70264781,\n",
       "        31.36339331, 27.68241785, 26.42072306, 26.48937418, 22.11741538,\n",
       "        23.59192472, 22.4007104 , 13.04065644,  9.02828648,  7.49869297,\n",
       "         5.65558362],\n",
       "       [26.19590497, 30.91039042, 34.68889033, 24.01802102, 25.0592435 ,\n",
       "        29.52848289, 32.5808212 , 32.0707042 , 26.06472761, 22.93920845,\n",
       "        23.86003821, 28.68284137, 18.51627768, 16.30036949, 11.15122886,\n",
       "         6.65172025],\n",
       "       [25.41249339, 32.0169113 , 27.29972025, 25.43840716, 25.3578613 ,\n",
       "        35.5344602 , 26.95845855, 28.75311844, 29.71835017, 24.72998769,\n",
       "        24.56690341, 23.86182666, 21.34559456,  9.69998786,  7.67463057,\n",
       "         5.27668379],\n",
       "       [29.0404568 , 33.61876427, 26.09290827, 29.23213004, 28.61187512,\n",
       "        31.21949809, 25.2782734 , 25.24290845, 22.78818732, 22.86364717,\n",
       "        23.95994459, 23.42384022, 14.99881913, 12.95602489,  8.4048052 ,\n",
       "         5.35608702],\n",
       "       [30.59165324, 28.41458265, 24.38170867, 27.76980959, 24.73469549,\n",
       "        30.3513415 , 27.03649625, 29.32711072, 24.55205034, 24.39091401,\n",
       "        23.16527946, 22.85406583, 17.49644272, 12.20934964,  8.63524726,\n",
       "         4.46990593],\n",
       "       [30.68855983, 26.71739836, 29.59949576, 31.02120245, 25.88116619,\n",
       "        32.54996239, 27.62789794, 26.17013287, 22.18744263, 23.34984032,\n",
       "        22.30636949, 20.78543246, 20.2689023 , 12.84300707,  7.77594078,\n",
       "         5.12359031],\n",
       "       [30.80230407, 27.85736731, 25.73322887, 31.64636685, 26.42877482,\n",
       "        35.8465421 , 29.81562014, 26.73755111, 24.84207819, 26.84530128,\n",
       "        23.88081629, 27.9666929 , 18.61308014,  8.83627684,  6.70938466,\n",
       "         5.35456884],\n",
       "       [29.40432957, 28.5406807 , 31.58183884, 29.34848296, 31.12936337,\n",
       "        30.02160916, 27.96194986, 24.3536267 , 24.35427387, 25.43622615,\n",
       "        27.68711938, 19.04118692, 21.28078043, 21.23853145,  7.24619436,\n",
       "         4.9510776 ],\n",
       "       [31.99648701, 28.88504704, 25.59297892, 28.06251238, 28.2669019 ,\n",
       "        31.31767677, 27.36300477, 26.07994983, 23.47911861, 23.92183736,\n",
       "        23.42336023, 25.27823507, 15.58425837,  9.79660209,  6.78743661,\n",
       "         4.28404819],\n",
       "       [30.88356251, 29.1816263 , 28.65629537, 25.32837055, 26.65759695,\n",
       "        33.60356752, 27.03400237, 25.88989711, 26.43740183, 23.70603522,\n",
       "        20.83603651, 25.46317269, 15.53597543, 10.2247158 ,  9.38736414,\n",
       "         9.79496376]])"
      ]
     },
     "execution_count": 9,
     "metadata": {},
     "output_type": "execute_result"
    }
   ],
   "source": [
    "teo_cb_auto_env"
   ]
  },
  {
   "cell_type": "code",
   "execution_count": 21,
   "metadata": {},
   "outputs": [
    {
     "data": {
      "text/plain": [
       "5.6336211577570765"
      ]
     },
     "execution_count": 21,
     "metadata": {},
     "output_type": "execute_result"
    }
   ],
   "source": [
    "statistics.mean(teo_cb_auto_env[:,0])\n",
    "statistics.mean(teo_cb_auto_env[:,-1])"
   ]
  }
 ],
 "metadata": {
  "kernelspec": {
   "display_name": "Python 3",
   "language": "python",
   "name": "python3"
  },
  "language_info": {
   "codemirror_mode": {
    "name": "ipython",
    "version": 3
   },
   "file_extension": ".py",
   "mimetype": "text/x-python",
   "name": "python",
   "nbconvert_exporter": "python",
   "pygments_lexer": "ipython3",
   "version": "3.8.5"
  }
 },
 "nbformat": 4,
 "nbformat_minor": 4
}
