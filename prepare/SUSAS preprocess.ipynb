{
 "cells": [
  {
   "cell_type": "code",
   "execution_count": 1,
   "metadata": {},
   "outputs": [],
   "source": [
    "import pandas as pd\n",
    "import numpy as np"
   ]
  },
  {
   "cell_type": "code",
   "execution_count": 2,
   "metadata": {},
   "outputs": [],
   "source": [
    "df = pd.read_table('/home/xuranzeng/SER/actual.txt', header=None, sep='\\s+')\n",
    "df = df.iloc[: , 0]\n",
    "l = (item for item in df if item.startswith('roller')) # use roller\n",
    "data = pd.DataFrame(list(l))\n",
    "\n",
    "data = pd.concat([data, data[0].str.split('/', 4, expand=True)], axis=1)\n",
    "data.columns=[\"Filename\",\"State\", \"Speaker\", \"Sentiment\", \"Word\"]\n",
    "\n",
    "# path\n",
    "base_path='/project/graziul/data/corpora/susas/speech/actual/'\n",
    "data['Path'] = base_path + data['Filename'].astype(str)"
   ]
  },
  {
   "cell_type": "code",
   "execution_count": 3,
   "metadata": {},
   "outputs": [],
   "source": [
    "# mapping the sentiment labels\n",
    "# Arousal Low / High\n",
    "AL = [\"neutral\",\"neut_oov_all\"]\n",
    "AH = [\"hist\",\"medst\", \"scream\", \"freefall\", \"hist_oov_all\",\"free_oov_all\",\"meds_oov_all\",\"scre_oov_all\"]\n",
    "\n",
    "# Valence Negative / Positive\n",
    "VN = [\"hist\", \"scream\", \"freefall\", \"hist_oov_all\",\"free_oov_all\",\"scre_oov_all\"]\n",
    "VP = [\"neutral\",\"neut_oov_all\",\"medst\",\"meds_oov_all\"]\n",
    "\n",
    "data['Arousal'] = np.where(data['Sentiment'].isin(AL),'Low','High')\n",
    "data['Valence'] = np.where(data['Sentiment'].isin(VN),'Negative','Positive')"
   ]
  },
  {
   "cell_type": "code",
   "execution_count": 4,
   "metadata": {},
   "outputs": [
    {
     "data": {
      "text/html": [
       "<div>\n",
       "<style scoped>\n",
       "    .dataframe tbody tr th:only-of-type {\n",
       "        vertical-align: middle;\n",
       "    }\n",
       "\n",
       "    .dataframe tbody tr th {\n",
       "        vertical-align: top;\n",
       "    }\n",
       "\n",
       "    .dataframe thead th {\n",
       "        text-align: right;\n",
       "    }\n",
       "</style>\n",
       "<table border=\"1\" class=\"dataframe\">\n",
       "  <thead>\n",
       "    <tr style=\"text-align: right;\">\n",
       "      <th></th>\n",
       "      <th>Filename</th>\n",
       "      <th>State</th>\n",
       "      <th>Speaker</th>\n",
       "      <th>Sentiment</th>\n",
       "      <th>Word</th>\n",
       "      <th>Path</th>\n",
       "      <th>Arousal</th>\n",
       "      <th>Valence</th>\n",
       "    </tr>\n",
       "  </thead>\n",
       "  <tbody>\n",
       "    <tr>\n",
       "      <th>0</th>\n",
       "      <td>roller/f1/free_oov_all/all1.sph</td>\n",
       "      <td>roller</td>\n",
       "      <td>f1</td>\n",
       "      <td>free_oov_all</td>\n",
       "      <td>all1.sph</td>\n",
       "      <td>/project/graziul/data/corpora/susas/speech/act...</td>\n",
       "      <td>High</td>\n",
       "      <td>Negative</td>\n",
       "    </tr>\n",
       "    <tr>\n",
       "      <th>1</th>\n",
       "      <td>roller/f1/freefall/freeze1.sph</td>\n",
       "      <td>roller</td>\n",
       "      <td>f1</td>\n",
       "      <td>freefall</td>\n",
       "      <td>freeze1.sph</td>\n",
       "      <td>/project/graziul/data/corpora/susas/speech/act...</td>\n",
       "      <td>High</td>\n",
       "      <td>Negative</td>\n",
       "    </tr>\n",
       "    <tr>\n",
       "      <th>2</th>\n",
       "      <td>roller/f1/freefall/freeze2.sph</td>\n",
       "      <td>roller</td>\n",
       "      <td>f1</td>\n",
       "      <td>freefall</td>\n",
       "      <td>freeze2.sph</td>\n",
       "      <td>/project/graziul/data/corpora/susas/speech/act...</td>\n",
       "      <td>High</td>\n",
       "      <td>Negative</td>\n",
       "    </tr>\n",
       "    <tr>\n",
       "      <th>3</th>\n",
       "      <td>roller/f1/freefall/go1.sph</td>\n",
       "      <td>roller</td>\n",
       "      <td>f1</td>\n",
       "      <td>freefall</td>\n",
       "      <td>go1.sph</td>\n",
       "      <td>/project/graziul/data/corpora/susas/speech/act...</td>\n",
       "      <td>High</td>\n",
       "      <td>Negative</td>\n",
       "    </tr>\n",
       "    <tr>\n",
       "      <th>4</th>\n",
       "      <td>roller/f1/freefall/hello1.sph</td>\n",
       "      <td>roller</td>\n",
       "      <td>f1</td>\n",
       "      <td>freefall</td>\n",
       "      <td>hello1.sph</td>\n",
       "      <td>/project/graziul/data/corpora/susas/speech/act...</td>\n",
       "      <td>High</td>\n",
       "      <td>Negative</td>\n",
       "    </tr>\n",
       "  </tbody>\n",
       "</table>\n",
       "</div>"
      ],
      "text/plain": [
       "                          Filename   State Speaker     Sentiment         Word  \\\n",
       "0  roller/f1/free_oov_all/all1.sph  roller      f1  free_oov_all     all1.sph   \n",
       "1   roller/f1/freefall/freeze1.sph  roller      f1      freefall  freeze1.sph   \n",
       "2   roller/f1/freefall/freeze2.sph  roller      f1      freefall  freeze2.sph   \n",
       "3       roller/f1/freefall/go1.sph  roller      f1      freefall      go1.sph   \n",
       "4    roller/f1/freefall/hello1.sph  roller      f1      freefall   hello1.sph   \n",
       "\n",
       "                                                Path Arousal   Valence  \n",
       "0  /project/graziul/data/corpora/susas/speech/act...    High  Negative  \n",
       "1  /project/graziul/data/corpora/susas/speech/act...    High  Negative  \n",
       "2  /project/graziul/data/corpora/susas/speech/act...    High  Negative  \n",
       "3  /project/graziul/data/corpora/susas/speech/act...    High  Negative  \n",
       "4  /project/graziul/data/corpora/susas/speech/act...    High  Negative  "
      ]
     },
     "execution_count": 4,
     "metadata": {},
     "output_type": "execute_result"
    }
   ],
   "source": [
    "data.head()"
   ]
  },
  {
   "cell_type": "code",
   "execution_count": 77,
   "metadata": {},
   "outputs": [
    {
     "data": {
      "text/plain": [
       "[Text(0.5, 1.0, 'freeze1.sph waveform')]"
      ]
     },
     "execution_count": 77,
     "metadata": {},
     "output_type": "execute_result"
    },
    {
     "data": {
      "image/png": "[encoded data removed]",
      "text/plain": [
       "<Figure size 1080x576 with 1 Axes>"
      ]
     },
     "metadata": {
      "needs_background": "light"
     },
     "output_type": "display_data"
    }
   ],
   "source": [
    "import librosa\n",
    "import librosa.display # You need this in librosa to be able to plot\n",
    "\n",
    "import matplotlib.pyplot as plt\n",
    "\n",
    "#clip_dir = '/project/graziul/data/corpora/susas/speech/actual/roller/f1/freefall/freeze1.sph'\n",
    "clip_dir = data.loc[0,'Path']\n",
    "audio,sr = librosa.load(clip_dir,sr=8000) # all speech tokens were sampled at a rate of 8kHz\n",
    "\n",
    "fig, ax = plt.subplots(figsize=(15,8))\n",
    "librosa.display.waveplot(audio, sr=sr, ax=ax) \n",
    "ax.set(title=\"freeze1.sph waveform\")"
   ]
  },
  {
   "cell_type": "code",
   "execution_count": 71,
   "metadata": {},
   "outputs": [],
   "source": [
    "#data.to_csv('/project/graziul/ra/team_ser/susas_path.csv')"
   ]
  },
  {
   "cell_type": "code",
   "execution_count": 23,
   "metadata": {},
   "outputs": [],
   "source": [
    "path = pd.read_csv('/project/graziul/ra/team_ser/susas_path.csv')\n",
    "path.drop(path.iloc[:, 0:1], inplace = True, axis = 1)"
   ]
  },
  {
   "cell_type": "code",
   "execution_count": 24,
   "metadata": {},
   "outputs": [],
   "source": [
    "path['Transcript'] = path['Word'].str.strip().str[0:-5]"
   ]
  },
  {
   "cell_type": "code",
   "execution_count": 25,
   "metadata": {},
   "outputs": [],
   "source": [
    "path = path.loc[:,['Path','Arousal','Valence','Transcript']]"
   ]
  },
  {
   "cell_type": "code",
   "execution_count": 26,
   "metadata": {
    "scrolled": true
   },
   "outputs": [
    {
     "data": {
      "text/html": [
       "<div>\n",
       "<style scoped>\n",
       "    .dataframe tbody tr th:only-of-type {\n",
       "        vertical-align: middle;\n",
       "    }\n",
       "\n",
       "    .dataframe tbody tr th {\n",
       "        vertical-align: top;\n",
       "    }\n",
       "\n",
       "    .dataframe thead th {\n",
       "        text-align: right;\n",
       "    }\n",
       "</style>\n",
       "<table border=\"1\" class=\"dataframe\">\n",
       "  <thead>\n",
       "    <tr style=\"text-align: right;\">\n",
       "      <th></th>\n",
       "      <th>Path</th>\n",
       "      <th>Arousal</th>\n",
       "      <th>Valence</th>\n",
       "      <th>Transcript</th>\n",
       "    </tr>\n",
       "  </thead>\n",
       "  <tbody>\n",
       "    <tr>\n",
       "      <th>0</th>\n",
       "      <td>/project/graziul/data/corpora/susas/speech/act...</td>\n",
       "      <td>High</td>\n",
       "      <td>Negative</td>\n",
       "      <td>all</td>\n",
       "    </tr>\n",
       "    <tr>\n",
       "      <th>1</th>\n",
       "      <td>/project/graziul/data/corpora/susas/speech/act...</td>\n",
       "      <td>High</td>\n",
       "      <td>Negative</td>\n",
       "      <td>freeze</td>\n",
       "    </tr>\n",
       "    <tr>\n",
       "      <th>2</th>\n",
       "      <td>/project/graziul/data/corpora/susas/speech/act...</td>\n",
       "      <td>High</td>\n",
       "      <td>Negative</td>\n",
       "      <td>freeze</td>\n",
       "    </tr>\n",
       "    <tr>\n",
       "      <th>3</th>\n",
       "      <td>/project/graziul/data/corpora/susas/speech/act...</td>\n",
       "      <td>High</td>\n",
       "      <td>Negative</td>\n",
       "      <td>go</td>\n",
       "    </tr>\n",
       "    <tr>\n",
       "      <th>4</th>\n",
       "      <td>/project/graziul/data/corpora/susas/speech/act...</td>\n",
       "      <td>High</td>\n",
       "      <td>Negative</td>\n",
       "      <td>hello</td>\n",
       "    </tr>\n",
       "  </tbody>\n",
       "</table>\n",
       "</div>"
      ],
      "text/plain": [
       "                                                Path Arousal   Valence  \\\n",
       "0  /project/graziul/data/corpora/susas/speech/act...    High  Negative   \n",
       "1  /project/graziul/data/corpora/susas/speech/act...    High  Negative   \n",
       "2  /project/graziul/data/corpora/susas/speech/act...    High  Negative   \n",
       "3  /project/graziul/data/corpora/susas/speech/act...    High  Negative   \n",
       "4  /project/graziul/data/corpora/susas/speech/act...    High  Negative   \n",
       "\n",
       "  Transcript  \n",
       "0        all  \n",
       "1     freeze  \n",
       "2     freeze  \n",
       "3         go  \n",
       "4      hello  "
      ]
     },
     "execution_count": 26,
     "metadata": {},
     "output_type": "execute_result"
    }
   ],
   "source": [
    "path.head()"
   ]
  },
  {
   "cell_type": "code",
   "execution_count": 27,
   "metadata": {},
   "outputs": [],
   "source": [
    "#path.to_csv('/project/graziul/ra/team_ser/susas_path.csv')"
   ]
  }
 ],
 "metadata": {
  "kernelspec": {
   "display_name": "Python 3 (ipykernel)",
   "language": "python",
   "name": "python3"
  },
  "language_info": {
   "codemirror_mode": {
    "name": "ipython",
    "version": 3
   },
   "file_extension": ".py",
   "mimetype": "text/x-python",
   "name": "python",
   "nbconvert_exporter": "python",
   "pygments_lexer": "ipython3",
   "version": "3.8.5"
  }
 },
 "nbformat": 4,
 "nbformat_minor": 4
}
