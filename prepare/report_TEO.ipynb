{
 "cells": [
  {
   "cell_type": "code",
   "execution_count": 14,
   "metadata": {},
   "outputs": [],
   "source": [
    "import numpy as np\n",
    "import pandas as pd\n",
    "import csv\n",
    "import pandasql as ps\n",
    "import sqlite3\n",
    "import os\n",
    "\n",
    "import datetime\n",
    "from datetime import datetime\n",
    "\n",
    "import warnings\n",
    "warnings.filterwarnings('ignore')"
   ]
  },
  {
   "cell_type": "code",
   "execution_count": 15,
   "metadata": {},
   "outputs": [],
   "source": [
    "report = pd.read_csv('/home/xuranzeng/project/data/aligned_sample.csv')\n",
    "report.drop(report.iloc[:, 0:1], inplace = True, axis = 1)"
   ]
  },
  {
   "cell_type": "code",
   "execution_count": 16,
   "metadata": {
    "scrolled": true
   },
   "outputs": [],
   "source": [
    "report = report[['date','Zone','file','num_bpc','Date2','Arrest','Domestic','Primary Type']]"
   ]
  },
  {
   "cell_type": "code",
   "execution_count": 17,
   "metadata": {
    "scrolled": true
   },
   "outputs": [
    {
     "data": {
      "text/html": [
       "<div>\n",
       "<style scoped>\n",
       "    .dataframe tbody tr th:only-of-type {\n",
       "        vertical-align: middle;\n",
       "    }\n",
       "\n",
       "    .dataframe tbody tr th {\n",
       "        vertical-align: top;\n",
       "    }\n",
       "\n",
       "    .dataframe thead th {\n",
       "        text-align: right;\n",
       "    }\n",
       "</style>\n",
       "<table border=\"1\" class=\"dataframe\">\n",
       "  <thead>\n",
       "    <tr style=\"text-align: right;\">\n",
       "      <th></th>\n",
       "      <th>date</th>\n",
       "      <th>Zone</th>\n",
       "      <th>file</th>\n",
       "      <th>num_bpc</th>\n",
       "      <th>Date2</th>\n",
       "      <th>Arrest</th>\n",
       "      <th>Domestic</th>\n",
       "      <th>Primary Type</th>\n",
       "    </tr>\n",
       "  </thead>\n",
       "  <tbody>\n",
       "    <tr>\n",
       "      <th>0</th>\n",
       "      <td>2018_08_18</td>\n",
       "      <td>1</td>\n",
       "      <td>201808172356</td>\n",
       "      <td>97</td>\n",
       "      <td>2018-08-18 00:05:00</td>\n",
       "      <td>0</td>\n",
       "      <td>1</td>\n",
       "      <td>BATTERY</td>\n",
       "    </tr>\n",
       "    <tr>\n",
       "      <th>1</th>\n",
       "      <td>2018_08_18</td>\n",
       "      <td>1</td>\n",
       "      <td>201808180126</td>\n",
       "      <td>110</td>\n",
       "      <td>2018-08-18 01:30:00</td>\n",
       "      <td>1</td>\n",
       "      <td>0</td>\n",
       "      <td>BATTERY</td>\n",
       "    </tr>\n",
       "    <tr>\n",
       "      <th>2</th>\n",
       "      <td>2018_08_18</td>\n",
       "      <td>1</td>\n",
       "      <td>201808180126</td>\n",
       "      <td>110</td>\n",
       "      <td>2018-08-18 01:30:00</td>\n",
       "      <td>0</td>\n",
       "      <td>1</td>\n",
       "      <td>OFFENSE INVOLVING CHILDREN</td>\n",
       "    </tr>\n",
       "    <tr>\n",
       "      <th>3</th>\n",
       "      <td>2018_08_18</td>\n",
       "      <td>1</td>\n",
       "      <td>201808180156</td>\n",
       "      <td>171</td>\n",
       "      <td>2018-08-18 02:00:00</td>\n",
       "      <td>1</td>\n",
       "      <td>1</td>\n",
       "      <td>BATTERY</td>\n",
       "    </tr>\n",
       "    <tr>\n",
       "      <th>4</th>\n",
       "      <td>2018_08_18</td>\n",
       "      <td>1</td>\n",
       "      <td>201808180156</td>\n",
       "      <td>171</td>\n",
       "      <td>2018-08-18 02:00:00</td>\n",
       "      <td>0</td>\n",
       "      <td>0</td>\n",
       "      <td>CRIMINAL DAMAGE</td>\n",
       "    </tr>\n",
       "  </tbody>\n",
       "</table>\n",
       "</div>"
      ],
      "text/plain": [
       "         date  Zone          file  num_bpc                Date2  Arrest  \\\n",
       "0  2018_08_18     1  201808172356       97  2018-08-18 00:05:00       0   \n",
       "1  2018_08_18     1  201808180126      110  2018-08-18 01:30:00       1   \n",
       "2  2018_08_18     1  201808180126      110  2018-08-18 01:30:00       0   \n",
       "3  2018_08_18     1  201808180156      171  2018-08-18 02:00:00       1   \n",
       "4  2018_08_18     1  201808180156      171  2018-08-18 02:00:00       0   \n",
       "\n",
       "   Domestic                Primary Type  \n",
       "0         1                     BATTERY  \n",
       "1         0                     BATTERY  \n",
       "2         1  OFFENSE INVOLVING CHILDREN  \n",
       "3         1                     BATTERY  \n",
       "4         0             CRIMINAL DAMAGE  "
      ]
     },
     "execution_count": 17,
     "metadata": {},
     "output_type": "execute_result"
    }
   ],
   "source": [
    "report.head()"
   ]
  },
  {
   "cell_type": "code",
   "execution_count": 18,
   "metadata": {},
   "outputs": [],
   "source": [
    "# label violent and property crime\n",
    "violent_crime = [\"HOMICIDE\",\"ASSAULT\",\"BATTERY\"]\n",
    "property_crime = [\"BURGLARY\",\"THEFT\",\"MOTOR VEHICLE THEFT\"]\n",
    "\n",
    "report['Violent'] = np.where(report['Primary Type'].isin(violent_crime),True,False)\n",
    "report['Property'] = np.where(report['Primary Type'].isin(property_crime),True,False)\n",
    "\n",
    "report['Total'] = True"
   ]
  },
  {
   "cell_type": "code",
   "execution_count": 20,
   "metadata": {
    "scrolled": true
   },
   "outputs": [],
   "source": [
    "# groupby summary (day)\n",
    "report['file'] = pd.to_numeric(report['file'])\n",
    "report = report.sort_values(by=['date','file','Zone'])\n",
    "report_sum = report.groupby(['date',\"file\",\"Zone\"]).sum()\n",
    "#report_sum.to_csv('/home/xuranzeng/project/data/crimes_data_zone_simplified_sample_summary_day.csv')\n"
   ]
  },
  {
   "cell_type": "code",
   "execution_count": 21,
   "metadata": {
    "scrolled": true
   },
   "outputs": [],
   "source": [
    "# get audio file name\n",
    "file = report_sum.reset_index()\n",
    "file['zonename'] = 'Zone'+file['Zone'].astype(str)\n",
    "base_path='/project/graziul/data/'\n",
    "for i in range(0,len(file)):\n",
    "    \n",
    "    \n",
    "    feed=file.loc[i,'zonename']\n",
    "    date=file.loc[i,'date']\n",
    "    filepath=base_path+feed+'/'+date\n",
    "    infiles = os.listdir(filepath)\n",
    "\n",
    "    l = (item for item in infiles if item.endswith(\".mp3\") and item.startswith(file.loc[i,'file'].astype(str)))\n",
    "\n",
    "\n",
    "    #file['mp3path'] = base_path+feed+'/'+date+'/'+list(l)[0]\n",
    "    file.loc[i,'mp3path'] = list(l)[0]\n",
    "    \n",
    "file['path'] = base_path+file['zonename'] +'/'+file['date']+'/'+file['mp3path']"
   ]
  },
  {
   "cell_type": "code",
   "execution_count": 22,
   "metadata": {},
   "outputs": [
    {
     "data": {
      "text/plain": [
       "(9168, 12)"
      ]
     },
     "execution_count": 22,
     "metadata": {},
     "output_type": "execute_result"
    }
   ],
   "source": [
    "file.shape"
   ]
  },
  {
   "cell_type": "code",
   "execution_count": 23,
   "metadata": {},
   "outputs": [
    {
     "data": {
      "text/html": [
       "<div>\n",
       "<style scoped>\n",
       "    .dataframe tbody tr th:only-of-type {\n",
       "        vertical-align: middle;\n",
       "    }\n",
       "\n",
       "    .dataframe tbody tr th {\n",
       "        vertical-align: top;\n",
       "    }\n",
       "\n",
       "    .dataframe thead th {\n",
       "        text-align: right;\n",
       "    }\n",
       "</style>\n",
       "<table border=\"1\" class=\"dataframe\">\n",
       "  <thead>\n",
       "    <tr style=\"text-align: right;\">\n",
       "      <th></th>\n",
       "      <th>date</th>\n",
       "      <th>file</th>\n",
       "      <th>Zone</th>\n",
       "      <th>num_bpc</th>\n",
       "      <th>Arrest</th>\n",
       "      <th>Domestic</th>\n",
       "      <th>Violent</th>\n",
       "      <th>Property</th>\n",
       "      <th>Total</th>\n",
       "      <th>zonename</th>\n",
       "      <th>mp3path</th>\n",
       "      <th>path</th>\n",
       "    </tr>\n",
       "  </thead>\n",
       "  <tbody>\n",
       "    <tr>\n",
       "      <th>0</th>\n",
       "      <td>2018_08_18</td>\n",
       "      <td>201808172356</td>\n",
       "      <td>1</td>\n",
       "      <td>97</td>\n",
       "      <td>0</td>\n",
       "      <td>1</td>\n",
       "      <td>1</td>\n",
       "      <td>0</td>\n",
       "      <td>1</td>\n",
       "      <td>Zone1</td>\n",
       "      <td>201808172356-479346-27730.mp3</td>\n",
       "      <td>/project/graziul/data/Zone1/2018_08_18/2018081...</td>\n",
       "    </tr>\n",
       "    <tr>\n",
       "      <th>1</th>\n",
       "      <td>2018_08_18</td>\n",
       "      <td>201808180126</td>\n",
       "      <td>1</td>\n",
       "      <td>220</td>\n",
       "      <td>1</td>\n",
       "      <td>1</td>\n",
       "      <td>1</td>\n",
       "      <td>0</td>\n",
       "      <td>2</td>\n",
       "      <td>Zone1</td>\n",
       "      <td>201808180126-214247-27730.mp3</td>\n",
       "      <td>/project/graziul/data/Zone1/2018_08_18/2018081...</td>\n",
       "    </tr>\n",
       "  </tbody>\n",
       "</table>\n",
       "</div>"
      ],
      "text/plain": [
       "         date          file  Zone  num_bpc  Arrest  Domestic  Violent  \\\n",
       "0  2018_08_18  201808172356     1       97       0         1        1   \n",
       "1  2018_08_18  201808180126     1      220       1         1        1   \n",
       "\n",
       "   Property  Total zonename                        mp3path  \\\n",
       "0         0      1    Zone1  201808172356-479346-27730.mp3   \n",
       "1         0      2    Zone1  201808180126-214247-27730.mp3   \n",
       "\n",
       "                                                path  \n",
       "0  /project/graziul/data/Zone1/2018_08_18/2018081...  \n",
       "1  /project/graziul/data/Zone1/2018_08_18/2018081...  "
      ]
     },
     "execution_count": 23,
     "metadata": {},
     "output_type": "execute_result"
    }
   ],
   "source": [
    "file.head(2)"
   ]
  },
  {
   "cell_type": "code",
   "execution_count": 24,
   "metadata": {},
   "outputs": [
    {
     "data": {
      "text/html": [
       "<div>\n",
       "<style scoped>\n",
       "    .dataframe tbody tr th:only-of-type {\n",
       "        vertical-align: middle;\n",
       "    }\n",
       "\n",
       "    .dataframe tbody tr th {\n",
       "        vertical-align: top;\n",
       "    }\n",
       "\n",
       "    .dataframe thead th {\n",
       "        text-align: right;\n",
       "    }\n",
       "</style>\n",
       "<table border=\"1\" class=\"dataframe\">\n",
       "  <thead>\n",
       "    <tr style=\"text-align: right;\">\n",
       "      <th></th>\n",
       "      <th>date</th>\n",
       "      <th>file</th>\n",
       "      <th>Zone</th>\n",
       "      <th>num_bpc</th>\n",
       "      <th>Arrest</th>\n",
       "      <th>Domestic</th>\n",
       "      <th>Violent</th>\n",
       "      <th>Property</th>\n",
       "      <th>Total</th>\n",
       "      <th>zonename</th>\n",
       "      <th>mp3path</th>\n",
       "      <th>path</th>\n",
       "    </tr>\n",
       "  </thead>\n",
       "  <tbody>\n",
       "  </tbody>\n",
       "</table>\n",
       "</div>"
      ],
      "text/plain": [
       "Empty DataFrame\n",
       "Columns: [date, file, Zone, num_bpc, Arrest, Domestic, Violent, Property, Total, zonename, mp3path, path]\n",
       "Index: []"
      ]
     },
     "execution_count": 24,
     "metadata": {},
     "output_type": "execute_result"
    }
   ],
   "source": [
    "file[file['path'].isnull()]"
   ]
  },
  {
   "cell_type": "code",
   "execution_count": 25,
   "metadata": {},
   "outputs": [],
   "source": [
    "# TEO\n",
    "from teo_cb_auto_env import TeagorExtractor\n",
    "\n",
    "import pydub\n",
    "import librosa\n",
    "from scipy import signal\n",
    "from mutagen.mp3 import MP3\n",
    "import numpy as np\n",
    "from numpy import sign, trapz\n",
    "from teager_py import Teager\n",
    "import statsmodels.api as sm\n",
    "import wave\n",
    "import statistics\n",
    "from pydub import AudioSegment\n",
    "\n",
    "t = TeagorExtractor()"
   ]
  },
  {
   "cell_type": "code",
   "execution_count": null,
   "metadata": {
    "scrolled": true
   },
   "outputs": [
    {
     "name": "stdout",
     "output_type": "stream",
     "text": [
      "Computing TEO Features ...\n",
      "0 610\n",
      "processing: 0\n",
      "Computing TEO Features ...\n",
      "0 610\n",
      "processing: 1\n",
      "Computing TEO Features ...\n",
      "0 610\n",
      "processing: 2\n",
      "Computing TEO Features ...\n",
      "0 610\n",
      "processing: 3\n",
      "Computing TEO Features ...\n",
      "0 610\n",
      "processing: 4\n",
      "Computing TEO Features ...\n",
      "0 610\n",
      "processing: 5\n",
      "Computing TEO Features ...\n",
      "0 610\n",
      "processing: 6\n",
      "Computing TEO Features ...\n",
      "0 610\n",
      "processing: 7\n",
      "Computing TEO Features ...\n",
      "0 610\n",
      "processing: 8\n",
      "Computing TEO Features ...\n",
      "0 610\n",
      "processing: 9\n",
      "Computing TEO Features ...\n",
      "0 610\n",
      "processing: 10\n",
      "Computing TEO Features ...\n",
      "0 610\n",
      "processing: 11\n",
      "Computing TEO Features ...\n",
      "0 610\n",
      "processing: 12\n",
      "Computing TEO Features ...\n",
      "0 610\n",
      "processing: 13\n",
      "Computing TEO Features ...\n",
      "0 610\n",
      "processing: 14\n",
      "Computing TEO Features ...\n",
      "0 610\n",
      "processing: 15\n",
      "Computing TEO Features ...\n",
      "0 610\n",
      "processing: 16\n",
      "Computing TEO Features ...\n",
      "0 610\n",
      "processing: 17\n",
      "Computing TEO Features ...\n",
      "0 610\n",
      "processing: 18\n",
      "Computing TEO Features ...\n",
      "0 610\n",
      "processing: 19\n",
      "Computing TEO Features ...\n",
      "0 610\n",
      "processing: 20\n",
      "Computing TEO Features ...\n",
      "0 611\n",
      "processing: 21\n",
      "Computing TEO Features ...\n",
      "0 610\n",
      "processing: 22\n",
      "Computing TEO Features ...\n",
      "0 610\n",
      "processing: 23\n",
      "Computing TEO Features ...\n",
      "0 610\n",
      "processing: 24\n",
      "Computing TEO Features ...\n",
      "0 610\n",
      "processing: 25\n",
      "Computing TEO Features ...\n",
      "0 610\n",
      "processing: 26\n",
      "Computing TEO Features ...\n",
      "0 610\n",
      "processing: 27\n",
      "Computing TEO Features ...\n",
      "0 610\n",
      "processing: 28\n",
      "Computing TEO Features ...\n",
      "0 610\n",
      "processing: 29\n",
      "Computing TEO Features ...\n",
      "0 610\n",
      "processing: 30\n",
      "Computing TEO Features ...\n",
      "0 611\n",
      "processing: 31\n",
      "Computing TEO Features ...\n",
      "0 611\n",
      "processing: 32\n",
      "Computing TEO Features ...\n",
      "0 610\n",
      "processing: 33\n",
      "Computing TEO Features ...\n",
      "0 610\n",
      "processing: 34\n",
      "Computing TEO Features ...\n",
      "0 611\n",
      "processing: 35\n",
      "Computing TEO Features ...\n",
      "0 610\n",
      "processing: 36\n",
      "Computing TEO Features ...\n",
      "0 610\n",
      "processing: 37\n",
      "Computing TEO Features ...\n",
      "0 611\n",
      "processing: 38\n",
      "Computing TEO Features ...\n",
      "0 610\n",
      "processing: 39\n",
      "Computing TEO Features ...\n",
      "0 610\n",
      "processing: 40\n",
      "Computing TEO Features ...\n",
      "0 610\n",
      "processing: 41\n",
      "Computing TEO Features ...\n",
      "0 610\n",
      "processing: 42\n",
      "Computing TEO Features ...\n",
      "0 610\n",
      "processing: 43\n",
      "Computing TEO Features ...\n",
      "0 611\n",
      "processing: 44\n",
      "Computing TEO Features ...\n",
      "0 610\n",
      "processing: 45\n",
      "Computing TEO Features ...\n",
      "0 610\n",
      "processing: 46\n",
      "Computing TEO Features ...\n",
      "0 610\n",
      "processing: 47\n",
      "Computing TEO Features ...\n",
      "0 610\n",
      "processing: 48\n",
      "Computing TEO Features ...\n",
      "0 610\n",
      "processing: 49\n",
      "Computing TEO Features ...\n",
      "0 610\n",
      "processing: 50\n",
      "Computing TEO Features ...\n",
      "0 610\n",
      "processing: 51\n",
      "Computing TEO Features ...\n",
      "0 610\n",
      "processing: 52\n",
      "Computing TEO Features ...\n",
      "0 611\n",
      "processing: 53\n",
      "Computing TEO Features ...\n",
      "0 610\n",
      "processing: 54\n",
      "Computing TEO Features ...\n",
      "0 610\n",
      "processing: 55\n",
      "Computing TEO Features ...\n",
      "0 610\n",
      "processing: 56\n",
      "Computing TEO Features ...\n",
      "0 610\n",
      "processing: 57\n",
      "Computing TEO Features ...\n",
      "0 508\n",
      "processing: 58\n",
      "Computing TEO Features ...\n",
      "0 610\n",
      "processing: 59\n",
      "Computing TEO Features ...\n",
      "0 610\n",
      "processing: 60\n",
      "Computing TEO Features ...\n",
      "0 610\n",
      "processing: 61\n",
      "Computing TEO Features ...\n",
      "0 611\n",
      "processing: 62\n",
      "Computing TEO Features ...\n",
      "0 611\n",
      "processing: 63\n",
      "Computing TEO Features ...\n",
      "0 610\n",
      "processing: 64\n",
      "Computing TEO Features ...\n",
      "0 611\n",
      "processing: 65\n",
      "Computing TEO Features ...\n",
      "0 610\n",
      "processing: 66\n",
      "Computing TEO Features ...\n",
      "0 610\n",
      "processing: 67\n",
      "Computing TEO Features ...\n",
      "0 610\n",
      "processing: 68\n",
      "Computing TEO Features ...\n",
      "0 611\n",
      "processing: 69\n",
      "Computing TEO Features ...\n",
      "0 611\n",
      "processing: 70\n",
      "Computing TEO Features ...\n",
      "0 610\n",
      "processing: 71\n",
      "Computing TEO Features ...\n",
      "0 611\n",
      "processing: 72\n",
      "Computing TEO Features ...\n",
      "0 610\n",
      "processing: 73\n",
      "Computing TEO Features ...\n",
      "0 610\n"
     ]
    }
   ],
   "source": [
    "for i in range(0,len(file)):\n",
    "    filepath = file.loc[i,'path']\n",
    "    teo_cb_auto_env = t.process_mp3(filepath,3)\n",
    "    file.loc[i,'band1'] = statistics.mean(teo_cb_auto_env[:,0])\n",
    "    file.loc[i,'band16'] = statistics.mean(teo_cb_auto_env[:,-1])\n",
    "    print('processing:',i)"
   ]
  },
  {
   "cell_type": "code",
   "execution_count": null,
   "metadata": {},
   "outputs": [],
   "source": [
    "file.to_csv('/home/xuranzeng/project/data/0105_TEO.csv')"
   ]
  },
  {
   "cell_type": "code",
   "execution_count": null,
   "metadata": {},
   "outputs": [],
   "source": [
    "file.head(5)"
   ]
  },
  {
   "cell_type": "code",
   "execution_count": null,
   "metadata": {},
   "outputs": [],
   "source": []
  },
  {
   "cell_type": "code",
   "execution_count": null,
   "metadata": {},
   "outputs": [],
   "source": []
  },
  {
   "cell_type": "code",
   "execution_count": null,
   "metadata": {},
   "outputs": [],
   "source": []
  },
  {
   "cell_type": "code",
   "execution_count": null,
   "metadata": {},
   "outputs": [],
   "source": []
  },
  {
   "cell_type": "code",
   "execution_count": 11,
   "metadata": {},
   "outputs": [
    {
     "data": {
      "text/plain": [
       "'/project/graziul/data/Zone1/2018_08_18/201808172356-479346-27730.mp3'"
      ]
     },
     "execution_count": 11,
     "metadata": {},
     "output_type": "execute_result"
    }
   ],
   "source": [
    "filepath = file.loc[0,'path']\n",
    "filepath"
   ]
  },
  {
   "cell_type": "code",
   "execution_count": 13,
   "metadata": {},
   "outputs": [
    {
     "name": "stderr",
     "output_type": "stream",
     "text": [
      "/home/xuranzeng/.local/lib/python3.8/site-packages/librosa/core/audio.py:165: UserWarning: PySoundFile failed. Trying audioread instead.\n",
      "  warnings.warn(\"PySoundFile failed. Trying audioread instead.\")\n"
     ]
    },
    {
     "name": "stdout",
     "output_type": "stream",
     "text": [
      "Computing TEO Features ...\n",
      "0 1830\n"
     ]
    },
    {
     "name": "stderr",
     "output_type": "stream",
     "text": [
      "/software/python-anaconda-2020.11-el8-x86_64/lib/python3.8/site-packages/statsmodels/tsa/stattools.py:655: FutureWarning: The default number of lags is changing from 40 tomin(int(10 * np.log10(nobs)), nobs - 1) after 0.12is released. Set the number of lags to an integer to  silence this warning.\n",
      "  warnings.warn(\n",
      "/software/python-anaconda-2020.11-el8-x86_64/lib/python3.8/site-packages/statsmodels/tsa/stattools.py:665: FutureWarning: fft=True will become the default after the release of the 0.12 release of statsmodels. To suppress this warning, explicitly set fft=False.\n",
      "  warnings.warn(\n"
     ]
    }
   ],
   "source": [
    "teo_cb_auto_env = t.process_mp3(filepath,1)"
   ]
  },
  {
   "cell_type": "code",
   "execution_count": null,
   "metadata": {},
   "outputs": [],
   "source": [
    "band1 = statistics.mean(teo_cb_auto_env[:,0])"
   ]
  },
  {
   "cell_type": "code",
   "execution_count": null,
   "metadata": {},
   "outputs": [],
   "source": [
    "band16 = statistics.mean(teo_cb_auto_env[:,-1])"
   ]
  }
 ],
 "metadata": {
  "kernelspec": {
   "display_name": "Python 3",
   "language": "python",
   "name": "python3"
  },
  "language_info": {
   "codemirror_mode": {
    "name": "ipython",
    "version": 3
   },
   "file_extension": ".py",
   "mimetype": "text/x-python",
   "name": "python",
   "nbconvert_exporter": "python",
   "pygments_lexer": "ipython3",
   "version": "3.8.5"
  }
 },
 "nbformat": 4,
 "nbformat_minor": 4
}
