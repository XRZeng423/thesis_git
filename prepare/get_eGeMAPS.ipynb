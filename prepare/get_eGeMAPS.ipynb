{
 "cells": [
  {
   "cell_type": "code",
   "execution_count": 1,
   "metadata": {},
   "outputs": [
    {
     "name": "stderr",
     "output_type": "stream",
     "text": [
      "SoX could not be found!\n",
      "\n",
      "    If you do not have SoX, proceed here:\n",
      "     - - - http://sox.sourceforge.net/ - - -\n",
      "\n",
      "    If you do (or think that you should) have SoX, double-check your\n",
      "    path variables.\n",
      "    \n"
     ]
    }
   ],
   "source": [
    "import numpy as np\n",
    "import pandas as pd\n",
    "import opensmile\n",
    "\n",
    "\n",
    "import pydub\n",
    "import librosa\n",
    "from scipy import signal\n",
    "from mutagen.mp3 import MP3\n",
    "import numpy as np\n",
    "from numpy import sign, trapz\n",
    "from teager_py import Teager\n",
    "import statsmodels.api as sm\n",
    "import wave\n",
    "\n",
    "import warnings\n",
    "warnings.filterwarnings('ignore')\n",
    "\n",
    "\n",
    "\n",
    "smile = opensmile.Smile(\n",
    "    feature_set=opensmile.FeatureSet.eGeMAPSv02,    \n",
    "    #feature_level=opensmile.FeatureLevel.Functionals,\n",
    "    feature_level=opensmile.FeatureLevel.LowLevelDescriptors,\n",
    ")\n",
    "#print(smile.feature_names)"
   ]
  },
  {
   "cell_type": "code",
   "execution_count": 2,
   "metadata": {},
   "outputs": [],
   "source": [
    "# convert librosa to AudioSegment\n",
    "def librosa_to_audiosegment(filename):\n",
    "    y, sr = librosa.load(filename)\n",
    "    # convert from float to uint16\n",
    "    y = np.array(y * (1<<15), dtype=np.int16)\n",
    "    audio_segment = pydub.AudioSegment(\n",
    "        y.tobytes(), \n",
    "        frame_rate=sr,\n",
    "        sample_width=y.dtype.itemsize, \n",
    "        channels=1\n",
    "    )\n",
    "    return audio_segment"
   ]
  },
  {
   "cell_type": "code",
   "execution_count": 8,
   "metadata": {},
   "outputs": [],
   "source": [
    "def get_eGeMAPS1(filepath):\n",
    "    audio = librosa_to_audiosegment(filepath) # convert librosa array to audiosegment\n",
    "    sr = audio.frame_rate # get sample rate\n",
    "    audio = np.array(audio.get_array_of_samples()) # convert audiosegment to array\n",
    "    df = smile.process_signal(audio,sr).to_numpy() # get GeMAPS\n",
    "    return df"
   ]
  },
  {
   "cell_type": "code",
   "execution_count": 6,
   "metadata": {},
   "outputs": [
    {
     "name": "stdout",
     "output_type": "stream",
     "text": [
      "/project/graziul/data/corpora/susas/speech/actual/roller/f1/free_oov_all/all1.sph\n"
     ]
    }
   ],
   "source": [
    "# load path\n",
    "path = pd.read_csv('/project/graziul/ra/team_ser/susas_path.csv')\n",
    "path.drop(path.iloc[:, 0:1], inplace = True, axis = 1)\n",
    "path = path[['Path','Arousal','Valence']]\n",
    "\n",
    "filepath = path.loc[0,'Path']\n",
    "print(filepath)\n",
    "\n",
    "filepath2 = '/project/graziul/data/Zone1/2018_08_04/201808040607-817542-27730.mp3'"
   ]
  },
  {
   "cell_type": "code",
   "execution_count": 9,
   "metadata": {},
   "outputs": [
    {
     "data": {
      "text/plain": [
       "array([[ 1.03396573e-03,  0.00000000e+00,  0.00000000e+00, ...,\n",
       "         0.00000000e+00,  0.00000000e+00, -2.01000000e+02],\n",
       "       [ 1.03396573e-03,  0.00000000e+00,  0.00000000e+00, ...,\n",
       "         0.00000000e+00,  0.00000000e+00, -2.01000000e+02],\n",
       "       [ 1.03396573e-03,  0.00000000e+00,  0.00000000e+00, ...,\n",
       "         0.00000000e+00,  0.00000000e+00, -2.01000000e+02],\n",
       "       ...,\n",
       "       [ 6.29554892e+00, -7.10161543e+00,  1.93382339e+01, ...,\n",
       "         2.43223755e+03,  8.53430176e+02, -2.01000000e+02],\n",
       "       [ 6.44008827e+00, -6.49700785e+00,  1.89922009e+01, ...,\n",
       "         2.41869360e+03,  8.45736633e+02, -2.01000000e+02],\n",
       "       [ 6.37296867e+00, -6.85719347e+00,  2.00297337e+01, ...,\n",
       "         2.46224829e+03,  1.00308185e+03, -2.01000000e+02]], dtype=float32)"
      ]
     },
     "execution_count": 9,
     "metadata": {},
     "output_type": "execute_result"
    }
   ],
   "source": [
    "get_eGeMAPS1 (filepath2)"
   ]
  },
  {
   "cell_type": "code",
   "execution_count": 5,
   "metadata": {},
   "outputs": [
    {
     "data": {
      "text/plain": [
       "array([[   6.2094   ,   -6.692044 ,   18.515762 , ..., 2372.8406   ,\n",
       "         577.22797  , -201.       ],\n",
       "       [   6.094591 ,   -7.1967063,   19.163605 , ..., 2425.487    ,\n",
       "         807.9421   , -201.       ],\n",
       "       [   6.053633 ,   -7.5610566,   20.287848 , ..., 2423.443    ,\n",
       "         784.4694   , -201.       ],\n",
       "       ...,\n",
       "       [   6.3575745,   -6.199922 ,   16.613966 , ..., 2480.6326   ,\n",
       "         630.1203   , -201.       ],\n",
       "       [   6.4271927,   -6.3704796,   16.449568 , ..., 2492.7798   ,\n",
       "         547.5786   , -201.       ],\n",
       "       [   6.3886313,   -6.778122 ,   17.756926 , ..., 2478.921    ,\n",
       "         698.3128   , -201.       ]], dtype=float32)"
      ]
     },
     "execution_count": 5,
     "metadata": {},
     "output_type": "execute_result"
    }
   ],
   "source": [
    "get_eGeMAPS1 (filepath)"
   ]
  }
 ],
 "metadata": {
  "kernelspec": {
   "display_name": "Python 3 (ipykernel)",
   "language": "python",
   "name": "python3"
  },
  "language_info": {
   "codemirror_mode": {
    "name": "ipython",
    "version": 3
   },
   "file_extension": ".py",
   "mimetype": "text/x-python",
   "name": "python",
   "nbconvert_exporter": "python",
   "pygments_lexer": "ipython3",
   "version": "3.8.5"
  }
 },
 "nbformat": 4,
 "nbformat_minor": 4
}
